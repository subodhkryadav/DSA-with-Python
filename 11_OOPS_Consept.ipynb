{
 "cells": [
  {
   "cell_type": "markdown",
   "id": "d85631aa-58ee-47c8-8614-2b23749e2d7b",
   "metadata": {},
   "source": [
    "## Object Oriented Programming "
   ]
  },
  {
   "cell_type": "markdown",
   "id": "2cc013f4-5582-45d6-bc94-2f4c522b2e48",
   "metadata": {},
   "source": [
    "## class"
   ]
  },
  {
   "cell_type": "code",
   "execution_count": 116,
   "id": "38e69978-b4b8-496e-ab5f-ee8cfb679fc9",
   "metadata": {},
   "outputs": [],
   "source": [
    "class Class_name:\n",
    "    #body of the classes\n",
    "    pass\n",
    "object=Class_name()"
   ]
  },
  {
   "cell_type": "code",
   "execution_count": 117,
   "id": "7d0f17ff-e459-416f-ada0-9be93174c42f",
   "metadata": {},
   "outputs": [
    {
     "name": "stdout",
     "output_type": "stream",
     "text": [
      "<class 'type'>\n",
      "<__main__.Person object at 0x0000017884AF8200>\n"
     ]
    }
   ],
   "source": [
    "class Person:\n",
    "    pass\n",
    "obj=Person()\n",
    "print(type(Person))\n",
    "print(obj)"
   ]
  },
  {
   "cell_type": "code",
   "execution_count": 118,
   "id": "652c21db-8d13-4660-b0ed-c983b86e7d86",
   "metadata": {},
   "outputs": [
    {
     "name": "stdout",
     "output_type": "stream",
     "text": [
      "subodh\n",
      "19\n"
     ]
    }
   ],
   "source": [
    "class Person:\n",
    "    name=\"subodh\"\n",
    "    age=19\n",
    "obj=Person()\n",
    "print(obj.name)\n",
    "print(obj.age)"
   ]
  },
  {
   "cell_type": "code",
   "execution_count": 119,
   "id": "e5aa3a3a-f4a5-4f70-8608-7453151a6165",
   "metadata": {},
   "outputs": [
    {
     "name": "stdout",
     "output_type": "stream",
     "text": [
      "cricket\n",
      "babu\n"
     ]
    }
   ],
   "source": [
    "obj.hobby=\"cricket\"\n",
    "obj.l_name=\"babu\"\n",
    "\n",
    "print(obj.hobby)\n",
    "print(obj.l_name)"
   ]
  },
  {
   "cell_type": "markdown",
   "id": "c9fbe90c-097b-4537-abff-bb97998a0532",
   "metadata": {},
   "source": [
    "### Constructor or Initializer for object"
   ]
  },
  {
   "cell_type": "code",
   "execution_count": 121,
   "id": "2ff4266f-a3fa-4e47-ba42-d2b4895b50fe",
   "metadata": {},
   "outputs": [
    {
     "name": "stdout",
     "output_type": "stream",
     "text": [
      "subodh\n",
      "suraj\n",
      "vishal\n",
      "19\n",
      "20\n",
      "22\n"
     ]
    }
   ],
   "source": [
    "class Person:\n",
    "    def __init__(self,Name,Age):   #constructor \n",
    "        self.Name=Name             #initializer\n",
    "        self.Age=Age\n",
    "\n",
    "per1=Person(\"subodh\",19)\n",
    "per2=Person(\"suraj\",20)\n",
    "per3=Person(\"vishal\",22)\n",
    "\n",
    "print(per1.Name)\n",
    "print(per2.Name)\n",
    "print(per3.Name)\n",
    "print(per1.Age)\n",
    "print(per2.Age)\n",
    "print(per3.Age)"
   ]
  },
  {
   "cell_type": "markdown",
   "id": "7f8ce2cc-1bfc-4d51-80d4-62fc1f549faa",
   "metadata": {},
   "source": [
    "### multiple __init__method"
   ]
  },
  {
   "cell_type": "code",
   "execution_count": 123,
   "id": "768a4273-4d2e-4871-9295-2f9dfdd2bf54",
   "metadata": {},
   "outputs": [
    {
     "name": "stdout",
     "output_type": "stream",
     "text": [
      "subodh\n"
     ]
    }
   ],
   "source": [
    "class Person:\n",
    "    def __init__(self,Name,Age):   #constructor \n",
    "        self.Name=Name             #initializer\n",
    "        self.Age=Age\n",
    "\n",
    "    def __init__(self,Name):   #constructor \n",
    "        self.Name=Name\n",
    "\n",
    "per1=Person(\"subodh\")   \n",
    "print(per1.Name)   # no error print \"subodh\""
   ]
  },
  {
   "cell_type": "code",
   "execution_count": 124,
   "id": "488e7057-9cb2-442a-b385-cc17e372a77f",
   "metadata": {},
   "outputs": [
    {
     "ename": "TypeError",
     "evalue": "Person.__init__() takes 2 positional arguments but 3 were given",
     "output_type": "error",
     "traceback": [
      "\u001b[1;31m---------------------------------------------------------------------------\u001b[0m",
      "\u001b[1;31mTypeError\u001b[0m                                 Traceback (most recent call last)",
      "Cell \u001b[1;32mIn[124], line 9\u001b[0m\n\u001b[0;32m      6\u001b[0m     \u001b[38;5;28;01mdef\u001b[39;00m \u001b[38;5;21m__init__\u001b[39m(\u001b[38;5;28mself\u001b[39m,Name):   \u001b[38;5;66;03m#constructor \u001b[39;00m\n\u001b[0;32m      7\u001b[0m         \u001b[38;5;28mself\u001b[39m\u001b[38;5;241m.\u001b[39mName\u001b[38;5;241m=\u001b[39mName\n\u001b[1;32m----> 9\u001b[0m per2\u001b[38;5;241m=\u001b[39m\u001b[43mPerson\u001b[49m\u001b[43m(\u001b[49m\u001b[38;5;124;43m\"\u001b[39;49m\u001b[38;5;124;43msubodh\u001b[39;49m\u001b[38;5;124;43m\"\u001b[39;49m\u001b[43m,\u001b[49m\u001b[38;5;241;43m19\u001b[39;49m\u001b[43m)\u001b[49m\n\u001b[0;32m     10\u001b[0m \u001b[38;5;28mprint\u001b[39m(per2\u001b[38;5;241m.\u001b[39mName)   \u001b[38;5;66;03m# it give the error because the init method call the last of the method \u001b[39;00m\n",
      "\u001b[1;31mTypeError\u001b[0m: Person.__init__() takes 2 positional arguments but 3 were given"
     ]
    }
   ],
   "source": [
    "class Person:\n",
    "    def __init__(self,Name,Age):   #constructor \n",
    "        self.Name=Name             #initializer\n",
    "        self.Age=Age\n",
    "\n",
    "    def __init__(self,Name):   #constructor \n",
    "        self.Name=Name\n",
    "\n",
    "per2=Person(\"subodh\",19)\n",
    "print(per2.Name)   # it give the error because the init method call the last of the method "
   ]
  },
  {
   "cell_type": "markdown",
   "id": "e6175757-668b-4443-b1c6-e6eec3edf193",
   "metadata": {},
   "source": [
    "### multiple initializer"
   ]
  },
  {
   "cell_type": "code",
   "execution_count": null,
   "id": "24fb07c0-b5b4-4427-bb4d-a98e333320a2",
   "metadata": {},
   "outputs": [],
   "source": [
    "class Person:\n",
    "    def __init__(self,Name,Age=19,hobby=\"cricket\"):\n",
    "        self.Name=Name\n",
    "        self.Age=Age\n",
    "        self.hobby=hobby\n",
    "\n",
    "per1=Person(\"subodh\")\n",
    "per2=Person(\"suraj\",18)\n",
    "per3=Person(\"vishal\",22,\"football\")\n",
    "\n",
    "print(per3.hobby)\n",
    "print(per1.hobby)"
   ]
  },
  {
   "cell_type": "markdown",
   "id": "cedc8f1c-851f-4542-9759-b5e8e4aa52f5",
   "metadata": {},
   "source": [
    "### variable:"
   ]
  },
  {
   "cell_type": "code",
   "execution_count": null,
   "id": "66e3555d-5c1e-4bb9-8efe-0ed35d1f4a58",
   "metadata": {},
   "outputs": [],
   "source": [
    "class Person:\n",
    "    country=\"India\"   #global\n",
    "    def __init__(self,Name,Age):   \n",
    "        self.Name=Name       #instance    \n",
    "        self.Age=Age\n",
    "\n",
    "print(Person.country)\n",
    "per1=Person(\"subodh\",19)\n",
    "per2=Person(\"suraj\",20)\n",
    "print(per1.country)\n",
    "print(per2.country)\n",
    "\n",
    "per1.hobby=\"cricket\"  #local\n",
    "print(per1.hobby)\n"
   ]
  },
  {
   "cell_type": "markdown",
   "id": "29e493a2-28ff-4001-96e3-d635faac8f16",
   "metadata": {},
   "source": [
    "## Method"
   ]
  },
  {
   "cell_type": "markdown",
   "id": "b701ebbf-0af5-493f-9c49-8db2b28f35d8",
   "metadata": {},
   "source": [
    "### 1. Instance Method\n",
    "### 2. Class Method\n",
    "### 3. Static Method"
   ]
  },
  {
   "cell_type": "markdown",
   "id": "87a7bf59-587c-4c8a-b53a-22d7e9d094a0",
   "metadata": {},
   "source": [
    "### 1. Instance Method"
   ]
  },
  {
   "cell_type": "code",
   "execution_count": null,
   "id": "2e4272e7-8d1c-4e76-8d2d-a3a67b9e2d4b",
   "metadata": {},
   "outputs": [],
   "source": [
    "class Person:\n",
    "    def __init__(self,Name,Age):\n",
    "        self.Name=Name\n",
    "        self.Age=Age\n",
    "        \n",
    "    def findAge(self):   # instance method\n",
    "        return self.Age\n",
    "\n",
    "per=Person(\"subodh\",19)\n",
    "print(per.findAge())"
   ]
  },
  {
   "cell_type": "code",
   "execution_count": null,
   "id": "4714d29e-f259-4b2e-8a9e-0a61ead7e00a",
   "metadata": {},
   "outputs": [],
   "source": [
    "class Add:\n",
    "    def __init__(self,num1,num2):\n",
    "        self.num1=num1\n",
    "        self.num2=num2\n",
    "\n",
    "    def add(self):\n",
    "        sum=self.num1+self.num2\n",
    "        return sum\n",
    "\n",
    "obj=Add(3,5)\n",
    "print(obj.add())\n",
    "        "
   ]
  },
  {
   "cell_type": "markdown",
   "id": "397b5c73-8aba-44ae-a6af-edc4e3f8dd50",
   "metadata": {},
   "source": [
    "### 2. Class Metho"
   ]
  },
  {
   "cell_type": "code",
   "execution_count": null,
   "id": "e7ba468b-3bcb-4b4b-bbf7-9b53e4eed170",
   "metadata": {},
   "outputs": [],
   "source": [
    "class Person:\n",
    "    country=\"India\"\n",
    "    @classmethod\n",
    "    def greet(cls):\n",
    "        print(\"hello from the \",cls.country)\n",
    "        \n",
    "    def __init__(self,Name,Age):\n",
    "        self.Name=Name\n",
    "        self.Age=Age\n",
    "        \n",
    "    def findAge(self):   \n",
    "        return self.Age\n",
    "\n",
    "per=Person(\"subodh\",19)\n",
    "print(per.findAge())\n",
    "\n",
    "print(Person.greet())\n",
    "print(per.greet())\n"
   ]
  },
  {
   "cell_type": "markdown",
   "id": "c2106271-5779-474a-8507-7d4c5b14020b",
   "metadata": {},
   "source": [
    "### 3. Static method"
   ]
  },
  {
   "cell_type": "code",
   "execution_count": null,
   "id": "c280ef5d-7ea5-489e-b4b2-055c41413cec",
   "metadata": {},
   "outputs": [],
   "source": [
    "class Person:\n",
    "    country=\"India\"\n",
    "    @staticmethod\n",
    "    def hello():\n",
    "        print(\"hello world\")\n",
    "\n",
    "per=Person()\n",
    "per.hello()"
   ]
  },
  {
   "cell_type": "markdown",
   "id": "4daba340-8554-4df9-b586-fb5d85afd775",
   "metadata": {},
   "source": [
    "## Method Overloading"
   ]
  },
  {
   "cell_type": "markdown",
   "id": "ac21878c-a40b-47ad-915c-754107772567",
   "metadata": {},
   "source": [
    "####  python does not support the method overloading, or explicit method overloading"
   ]
  },
  {
   "cell_type": "code",
   "execution_count": null,
   "id": "0648b524-d6b0-4217-aab8-faa38e48fa7f",
   "metadata": {},
   "outputs": [],
   "source": [
    "class Add:\n",
    "    def sum(self,a,b,c):\n",
    "        return a+b+c\n",
    "\n",
    "    def sum(self,a,b):\n",
    "        return a+b\n",
    "\n",
    "A1=Add()\n",
    "print(A1.sum(2,3))\n",
    "print((A1.sum(2,3,4)))"
   ]
  },
  {
   "cell_type": "markdown",
   "id": "1970e1ba-1487-4415-8a94-c18bc58f59aa",
   "metadata": {},
   "source": [
    "#### implicit method overloading"
   ]
  },
  {
   "cell_type": "code",
   "execution_count": null,
   "id": "5c5e7085-20b0-43ed-b6a8-82873a47c0e8",
   "metadata": {},
   "outputs": [],
   "source": [
    "class Add:\n",
    "    def sum(self,a,b,c=0):\n",
    "        return a+b+c\n",
    "A1=Add()\n",
    "print(A1.sum(2,3))\n",
    "print((A1.sum(2,3,4)))"
   ]
  },
  {
   "cell_type": "markdown",
   "id": "f47013d2-98c8-47c8-8060-6eb8e6fb52bb",
   "metadata": {},
   "source": [
    "## Access modifier"
   ]
  },
  {
   "cell_type": "markdown",
   "id": "50c36c02-6292-4807-bb54-0ae58875a56e",
   "metadata": {},
   "source": [
    "### 1. public"
   ]
  },
  {
   "cell_type": "code",
   "execution_count": null,
   "id": "5e91dbad-db82-42c7-87bb-8d576bd2d87e",
   "metadata": {},
   "outputs": [],
   "source": [
    "class Person:\n",
    "    def __init__(self,name,age):\n",
    "        self.name=name\n",
    "        self.age=age\n",
    "    def findage(self):\n",
    "        return self.age\n",
    "\n",
    "per=Person(\"subodh\",19)\n",
    "print(per.findage())"
   ]
  },
  {
   "cell_type": "markdown",
   "id": "058a32bc-b0bd-4971-bbdb-9a5de6f6c9f3",
   "metadata": {},
   "source": [
    "### 2. private "
   ]
  },
  {
   "cell_type": "code",
   "execution_count": null,
   "id": "cc56382f-66d0-47e5-80d8-4d444569cac2",
   "metadata": {},
   "outputs": [],
   "source": [
    "class Person:\n",
    "    def __init__(self,name,age,salary):\n",
    "        self.name=name\n",
    "        self.age=age\n",
    "        self.__salary=salary\n",
    "\n",
    "per=Person(\"subodh\",19,50000)\n",
    "print(per.salary)    ## outside the class ,not access the salary value"
   ]
  },
  {
   "cell_type": "markdown",
   "id": "c8d2de0c-7fe8-4d67-a01d-40b5660009a8",
   "metadata": {},
   "source": [
    "##### how to access it"
   ]
  },
  {
   "cell_type": "code",
   "execution_count": null,
   "id": "6aa3d43a-f47f-4696-9e2e-81994250966d",
   "metadata": {},
   "outputs": [],
   "source": [
    "class Person:\n",
    "    def __init__(self,name,age,salary):\n",
    "        self.name=name\n",
    "        self.age=age\n",
    "        self.__salary=salary\n",
    "\n",
    "    def get_Salary(self):\n",
    "        return self.__salary\n",
    "\n",
    "per=Person(\"subodh\",19,50000)\n",
    "\n",
    "print(per.get_Salary())"
   ]
  },
  {
   "cell_type": "markdown",
   "id": "876f5e98-fea7-44d0-88e5-961ed65e2c66",
   "metadata": {},
   "source": [
    "### Another method to call the private data"
   ]
  },
  {
   "cell_type": "code",
   "execution_count": null,
   "id": "e563ef78-5ec4-48f2-8616-5908d1a845be",
   "metadata": {},
   "outputs": [],
   "source": [
    "print(per._Person__salary)"
   ]
  },
  {
   "cell_type": "markdown",
   "id": "c34cae7c-9f8c-42ae-a023-907f470de5b3",
   "metadata": {},
   "source": [
    "## Encapsulation"
   ]
  },
  {
   "cell_type": "code",
   "execution_count": null,
   "id": "e12bcfa8-238e-4a43-b8d4-5f4662754ffc",
   "metadata": {},
   "outputs": [],
   "source": [
    "class Person:\n",
    "    def __init__(self,name,car):\n",
    "        self.__name=name\n",
    "        self.__car=car\n",
    "#encapsulation   "
   ]
  },
  {
   "cell_type": "markdown",
   "id": "e3d31757-5529-4eb7-8bf8-e69530e864ff",
   "metadata": {},
   "source": [
    "#### used to the setter and getter method to access the property"
   ]
  },
  {
   "cell_type": "code",
   "execution_count": null,
   "id": "884a4373-7272-42be-bf79-bdd49c595a5c",
   "metadata": {},
   "outputs": [],
   "source": [
    "class Person:\n",
    "    def __init__(self,name,car):\n",
    "        self.__name=name\n",
    "        self.__car=car\n",
    "    def getName(self):\n",
    "        return self.__name\n",
    "    def setName(self,name):\n",
    "        self.__name=name\n",
    "\n",
    "    def getCar(self):\n",
    "        return self.__car\n",
    "    def setCar(self,car):\n",
    "        self.__car=car\n",
    "\n",
    "per=Person(\"subodh\",\"bmw\")\n",
    "\n",
    "print(per.getName())\n",
    "per.setName(\"subodhkumaryadav\")\n",
    "print(per.getName())\n",
    "\n",
    "print(per.getCar())\n",
    "per.setCar(\"thar\")\n",
    "print(per.getCar())"
   ]
  },
  {
   "cell_type": "markdown",
   "id": "5954167b-37bd-40db-bffc-c1058688a28c",
   "metadata": {},
   "source": [
    "## Inheritance"
   ]
  },
  {
   "cell_type": "markdown",
   "id": "46d264b5-9103-472b-a4bb-48f9ab57c6ee",
   "metadata": {},
   "source": [
    "#### 1. parent child relation ship\n",
    "#### 2. Hierarichal relationship"
   ]
  },
  {
   "cell_type": "code",
   "execution_count": null,
   "id": "b994b495-0368-40f1-976d-9cb282d6c27d",
   "metadata": {},
   "outputs": [],
   "source": [
    "class Animal:\n",
    "    def __init__(self,name):\n",
    "        self.name=name\n",
    "    def eat(self):\n",
    "        print(self.name+\"animal is eating\")\n",
    "class Dog(Animal):\n",
    "    def __init__(self,name,type):\n",
    "        Animal.__init__(self,name)\n",
    "        self.type=type\n",
    "dog=Dog(\"Moti\",\"dobberman\")\n",
    "dog.eat()"
   ]
  },
  {
   "cell_type": "markdown",
   "id": "d6af4a7e-c712-4704-81f6-6d29195218ff",
   "metadata": {},
   "source": [
    "#### Super method"
   ]
  },
  {
   "cell_type": "code",
   "execution_count": null,
   "id": "48dc88b3-cfd8-4e73-b98a-ddf60cd3b892",
   "metadata": {},
   "outputs": [],
   "source": [
    "class Parent:\n",
    "    property=90\n",
    "class son(Parent):\n",
    "    property=99\n",
    "    def display(self):\n",
    "        print(\"son property: \",self.property)\n",
    "        print(\"parent property: \",super().property)\n",
    "obj=son()\n",
    "obj.display()"
   ]
  },
  {
   "cell_type": "code",
   "execution_count": null,
   "id": "04cb73d7-d460-465a-8219-b84daa3253b2",
   "metadata": {},
   "outputs": [],
   "source": [
    "class Parent:\n",
    "    property=99\n",
    "\n",
    "    def eat(self):\n",
    "        print(\"parent is eating\")\n",
    "\n",
    "class child(Parent):\n",
    "    property=100\n",
    "\n",
    "    def eat(self):\n",
    "        print(\"child is eating\")\n",
    "\n",
    "    def callEat(self):\n",
    "        self.eat()\n",
    "        super().eat()\n",
    "        \n",
    "obj=child()\n",
    "obj.callEat()\n",
    "\n",
    "# this is also known as the method over-riding "
   ]
  },
  {
   "cell_type": "markdown",
   "id": "293b40f6-bc68-4d38-9a66-7e8b97b384ed",
   "metadata": {},
   "source": [
    "### types of Inheritance"
   ]
  },
  {
   "cell_type": "markdown",
   "id": "ba30055c-d41b-442b-8551-165b6e0a8b07",
   "metadata": {},
   "source": [
    "#### 1. single level inheritance"
   ]
  },
  {
   "cell_type": "code",
   "execution_count": null,
   "id": "37565b8f-2a55-4500-915c-41ea492ec470",
   "metadata": {},
   "outputs": [],
   "source": [
    "class Animal:\n",
    "    def __init__(self,name):\n",
    "        self.name=name\n",
    "    def display(self):\n",
    "        print(\"this is the parent class\")\n",
    "\n",
    "class Dog(Animal):\n",
    "    def __init__(self,name,type):\n",
    "        super().__init__(name)\n",
    "        self.type=type\n",
    "\n",
    "obj=Dog(\"moti\",\"Dobberman\")\n",
    "obj.display()"
   ]
  },
  {
   "cell_type": "markdown",
   "id": "d48575a0-e1d5-4dd5-ae5e-2ae7e229b68a",
   "metadata": {},
   "source": [
    "#### 2.multilevel Inheritance"
   ]
  },
  {
   "cell_type": "code",
   "execution_count": null,
   "id": "b969a97e-7389-4aea-96da-05630fcef000",
   "metadata": {},
   "outputs": [],
   "source": [
    "class Animal:\n",
    "    def __init__(self,name):\n",
    "        self.name=name\n",
    "    def display(self):\n",
    "        print(\"this is the parent class\")\n",
    "\n",
    "class Dog(Animal):\n",
    "    def __init__(self,name,type):\n",
    "        super().__init__(name)\n",
    "        self.type=type\n",
    "        \n",
    "    def display(self):\n",
    "        print(\"this is the child or Dog class\")\n",
    "\n",
    "class cat(Dog):\n",
    "    def __init__(self,name,type,house):\n",
    "        super().__init__(name,type)\n",
    "        self.house=house\n",
    "    def display(self):\n",
    "        print(\"this is the child or cat class\")\n",
    "\n",
    "obj=cat(\"moti\",\"Dobberman\",\"dli\")\n",
    "obj.display()"
   ]
  },
  {
   "cell_type": "markdown",
   "id": "0b05c99a-ea17-488b-8dd3-91dc6ae934a1",
   "metadata": {},
   "source": [
    "#### 3. Hierarichal Inheritance"
   ]
  },
  {
   "cell_type": "code",
   "execution_count": null,
   "id": "e3c0d400-ee93-4e2f-8d34-8742f5ab8bcb",
   "metadata": {},
   "outputs": [],
   "source": [
    "class Animal:\n",
    "    def __init__(self,name):\n",
    "        self.name=name\n",
    "    def display(self):\n",
    "        print(\"this is the Parent or Animal class\")\n",
    "        \n",
    "class Dog(Animal):\n",
    "    def __init__(self,name,type):\n",
    "        super().__init__(name)\n",
    "        self.type=type\n",
    "    def display1(self):\n",
    "        print(\"this is the child class or Dog class\")\n",
    "\n",
    "class Cat(Animal):\n",
    "    def __init__(self,name,type):\n",
    "        super().__init__(name)\n",
    "        self.type=type\n",
    "    def display2(self):\n",
    "        print(\"this is the child or cat class\")\n",
    "        \n",
    "obj=Cat(\"moti\",\"dobberman\")\n",
    "obj.display()\n",
    "obj.display2()"
   ]
  },
  {
   "cell_type": "markdown",
   "id": "e881bc19-ce5e-4fbc-a56c-7bb804496e57",
   "metadata": {},
   "source": [
    "#### 4. Multiple Inheritance"
   ]
  },
  {
   "cell_type": "code",
   "execution_count": null,
   "id": "fd265462-d3c7-4780-a66f-80ce6732335c",
   "metadata": {},
   "outputs": [],
   "source": [
    "class A:\n",
    "    def __init__(self, a, b):\n",
    "        self.a = a\n",
    "        self.b = b\n",
    "\n",
    "    def add(self):\n",
    "        return self.a + self.b\n",
    "\n",
    "class B:\n",
    "    def __init__(self, c, d):\n",
    "        self.c = c\n",
    "        self.d = d\n",
    "\n",
    "    def sub(self):\n",
    "        return self.c - self.d\n",
    "\n",
    "class C(A, B):\n",
    "    def __init__(self, a, b, c, d, mult):\n",
    "        A.__init__(self, a, b)  # Initialize A\n",
    "        B.__init__(self, c, d)  # Initialize B\n",
    "        self.mult = mult\n",
    "\n",
    "    def guna(self):\n",
    "        self.mult = self.a * self.b * self.c * self.d\n",
    "        return self.mult\n",
    "\n",
    "# Example usage\n",
    "obj = C(2, 3, 4, 1, 0)\n",
    "print(\"Addition:\", obj.add())      # From class A\n",
    "print(\"Subtraction:\", obj.sub())   # From class B\n",
    "print(\"Multiplication:\", obj.guna())  # From class C"
   ]
  },
  {
   "cell_type": "markdown",
   "id": "a327e420-7fd5-465e-a91c-54a04285d577",
   "metadata": {},
   "source": [
    "#### 5. Hybrid Inheritance:"
   ]
  },
  {
   "cell_type": "code",
   "execution_count": null,
   "id": "b741768f-d2e2-49f4-a5d1-abf7177c2d98",
   "metadata": {},
   "outputs": [],
   "source": [
    "class Animal:\n",
    "    def __init__(self, name):\n",
    "        self.name = name\n",
    "\n",
    "    def display(self):\n",
    "        print(\"This is the Parent or Animal class\")\n",
    "\n",
    "class Dog(Animal):\n",
    "    def __init__(self, name, dog_type):\n",
    "        Animal.__init__(self, name)   # super() ke jagah direct call\n",
    "        self.dog_type = dog_type\n",
    "\n",
    "    def display1(self):\n",
    "        print(\"This is the child class or Dog class\")\n",
    "\n",
    "class Cat(Animal):\n",
    "    def __init__(self, name, cat_type):\n",
    "        Animal.__init__(self, name)   # super() ke jagah direct call\n",
    "        self.cat_type = cat_type\n",
    "\n",
    "    def display2(self):\n",
    "        print(\"This is the child class or Cat class\")\n",
    "\n",
    "# Hybrid class inheriting from both Dog and Cat\n",
    "class Pet(Dog, Cat):\n",
    "    def __init__(self, name, dog_type, cat_type, owner):\n",
    "        Dog.__init__(self, name, dog_type)\n",
    "        Cat.__init__(self, name, cat_type)\n",
    "        self.owner = owner\n",
    "\n",
    "    def display3(self):\n",
    "        print(f\"This is the hybrid class Pet. Owner: {self.owner}\")\n",
    "\n",
    "\n",
    "# Create object of Pet class\n",
    "obj = Pet(\"Moti\", \"Dobberman\", \"Persian\", \"Subodh\")\n",
    "\n",
    "# Call methods from all classes\n",
    "obj.display()     # From Animal\n",
    "obj.display1()    # From Dog\n",
    "obj.display2()    # From Cat\n",
    "obj.display3()    # From Pet\n"
   ]
  },
  {
   "cell_type": "markdown",
   "id": "facca38f-c3e0-47b5-8ac1-f2a1e70f4fb0",
   "metadata": {},
   "source": [
    "## Abstraction "
   ]
  },
  {
   "cell_type": "markdown",
   "id": "33e83717-32a7-4f74-ab97-8d5a5db64532",
   "metadata": {},
   "source": [
    "#### In Python, abstraction is the process of hiding implementation details and showing only the essential features of an object.\n",
    "#### It’s often achieved using abstract classes and abstract methods (via the abc module), forcing subclasses to implement specific methods."
   ]
  },
  {
   "cell_type": "code",
   "execution_count": null,
   "id": "50c349cd-53f2-4670-9892-21fc056b476e",
   "metadata": {},
   "outputs": [],
   "source": [
    "from abc import ABC, abstractmethod\n",
    "\n",
    "class Animal(ABC):  # inherit the ABC class\n",
    "    @abstractmethod    #decorator \n",
    "    def eat(self):   # abstract method\n",
    "        pass\n",
    "\n",
    "class Dog(Animal):\n",
    "    def eat(self):\n",
    "        print(\"Dog is eating\")\n",
    "\n",
    "# Using abstraction\n",
    "dog = Dog()\n",
    "dog.eat()\n"
   ]
  },
  {
   "cell_type": "markdown",
   "id": "a8f7acf4-d03d-4038-b78c-4b77443986db",
   "metadata": {},
   "source": [
    "## Polymorphism"
   ]
  },
  {
   "cell_type": "markdown",
   "id": "db64ce7c-5f0e-4aa0-a45e-4abc99ee3c11",
   "metadata": {},
   "source": [
    "#### Polymorphism in Python means one name, many forms — the same function or method can behave differently depending on the object that calls it.\n",
    "#### In simple words: different classes can have methods with the same name, but their implementation can vary."
   ]
  },
  {
   "cell_type": "markdown",
   "id": "208a59a3-d163-4a3e-a88f-8495846ad040",
   "metadata": {},
   "source": [
    "### Polymorphism using the inheritance"
   ]
  },
  {
   "cell_type": "code",
   "execution_count": null,
   "id": "1ab92585-0663-45c6-b071-32e2afecf9d6",
   "metadata": {},
   "outputs": [],
   "source": [
    "class Animal:\n",
    "    def eat(self):\n",
    "        print(\"animal is eating\")\n",
    "class Dog(Animal):\n",
    "    def eat(self):\n",
    "        print(\"dog is eating\")\n",
    "class Cat(Animal):\n",
    "    def eat(self):\n",
    "        print(\"cat is eating\")\n",
    "c=Cat()\n",
    "d=Dog()\n",
    "a=Animal()\n",
    "\n",
    "c.eat()\n",
    "d.eat()\n",
    "a.eat()"
   ]
  },
  {
   "cell_type": "markdown",
   "id": "d4b6a776-961f-4594-abe5-51ff716ddff5",
   "metadata": {},
   "source": [
    "### duck typing polymorphism"
   ]
  },
  {
   "cell_type": "code",
   "execution_count": null,
   "id": "f3389e9d-7324-4885-b00a-b29e625655f3",
   "metadata": {},
   "outputs": [],
   "source": [
    "class BirdFly():\n",
    "    def flyBird(self,bird):\n",
    "        bird.fly()\n",
    "class parrot:\n",
    "    def fly(self):\n",
    "        print(\"parrot is flying\")\n",
    "class crow:\n",
    "    def fly(self):\n",
    "        print(\"crow is flying\")\n",
    "p=parrot()\n",
    "c=crow()\n",
    "bf=BirdFly()\n",
    "bf.flyBird(p)\n",
    "bf.flyBird(c)"
   ]
  },
  {
   "cell_type": "markdown",
   "id": "d1d159ac-7ee5-44b5-8de2-8c6568751064",
   "metadata": {},
   "source": [
    "## Relationship of Association"
   ]
  },
  {
   "cell_type": "markdown",
   "id": "a378fed2-3370-4c9d-81ac-fd32ad4d4a8f",
   "metadata": {},
   "source": [
    "### 1. Aggregation "
   ]
  },
  {
   "cell_type": "code",
   "execution_count": 153,
   "id": "e70f97de-18b8-4857-a340-2a22c2fbfd2d",
   "metadata": {},
   "outputs": [
    {
     "name": "stdout",
     "output_type": "stream",
     "text": [
      "Department: Computer Science, Teachers: ['Ms. Anjali']\n"
     ]
    }
   ],
   "source": [
    "class Department:\n",
    "    def __init__(self, name):\n",
    "        self.name = name\n",
    "        self.teachers = []  # aggregation\n",
    "\n",
    "    def add_teacher(self, teacher):\n",
    "        self.teachers.append(teacher)\n",
    "\n",
    "# Teacher can exist outside Department\n",
    "t1 = Teacher(\"Ms. Anjali\")\n",
    "dept = Department(\"Computer Science\")\n",
    "dept.add_teacher(t1)\n",
    "\n",
    "print(f\"Department: {dept.name}, Teachers: {[t.name for t in dept.teachers]}\")\n"
   ]
  },
  {
   "cell_type": "markdown",
   "id": "a9a1c01d-2677-445f-a829-20e885a5e6d5",
   "metadata": {},
   "source": [
    "### 2. composition"
   ]
  },
  {
   "cell_type": "code",
   "execution_count": 156,
   "id": "313480e8-8f33-486f-b492-4372026e02ce",
   "metadata": {},
   "outputs": [
    {
     "name": "stdout",
     "output_type": "stream",
     "text": [
      "Toyota car has an engine of 120 HP\n"
     ]
    }
   ],
   "source": [
    "class Engine:\n",
    "    def __init__(self, horsepower):\n",
    "        self.horsepower = horsepower\n",
    "\n",
    "class Car:\n",
    "    def __init__(self, brand):\n",
    "        self.brand = brand\n",
    "        self.engine = Engine(120)  # composition (engine created inside car)\n",
    "\n",
    "mycar = Car(\"Toyota\")\n",
    "print(f\"{mycar.brand} car has an engine of {mycar.engine.horsepower} HP\")\n"
   ]
  },
  {
   "cell_type": "code",
   "execution_count": null,
   "id": "5608c702-301f-4418-9961-e0739bf662a3",
   "metadata": {},
   "outputs": [],
   "source": []
  }
 ],
 "metadata": {
  "kernelspec": {
   "display_name": "Python 3 (ipykernel)",
   "language": "python",
   "name": "python3"
  },
  "language_info": {
   "codemirror_mode": {
    "name": "ipython",
    "version": 3
   },
   "file_extension": ".py",
   "mimetype": "text/x-python",
   "name": "python",
   "nbconvert_exporter": "python",
   "pygments_lexer": "ipython3",
   "version": "3.12.3"
  }
 },
 "nbformat": 4,
 "nbformat_minor": 5
}
