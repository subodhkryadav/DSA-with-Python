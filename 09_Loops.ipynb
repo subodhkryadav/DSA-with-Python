{
 "cells": [
  {
   "cell_type": "markdown",
   "id": "7edac73d-c434-4c6f-a9e5-73475572430c",
   "metadata": {},
   "source": [
    "## Loops"
   ]
  },
  {
   "cell_type": "code",
   "execution_count": 3,
   "id": "f5d4c773-b10c-4330-a3cb-cce25fec6352",
   "metadata": {},
   "outputs": [],
   "source": [
    "fruits=[\"apple\",\"banana\",\"cherry\",\"date\",\"elderberry\"]"
   ]
  },
  {
   "cell_type": "code",
   "execution_count": 7,
   "id": "b7aec6fd-d9cf-4c77-be84-4a91a785df50",
   "metadata": {},
   "outputs": [
    {
     "name": "stdout",
     "output_type": "stream",
     "text": [
      "apple\n",
      "banana\n",
      "cherry\n",
      "date\n",
      "elderberry\n"
     ]
    }
   ],
   "source": [
    "for fruit in fruits:\n",
    "    print(fruit)"
   ]
  },
  {
   "cell_type": "code",
   "execution_count": 11,
   "id": "1945be8a-8081-4ee8-bdf8-8671941f35e5",
   "metadata": {},
   "outputs": [
    {
     "name": "stdout",
     "output_type": "stream",
     "text": [
      "s u b o d h k u m a r y a d a v "
     ]
    }
   ],
   "source": [
    "name=\"subodhkumaryadav\"\n",
    "for i in name:\n",
    "    print(i, end=\" \")"
   ]
  },
  {
   "cell_type": "code",
   "execution_count": 13,
   "id": "1a66b16e-bafd-4116-bb8c-e87af256a139",
   "metadata": {},
   "outputs": [],
   "source": [
    "## range"
   ]
  },
  {
   "cell_type": "code",
   "execution_count": 15,
   "id": "a88dcbd6-87f8-41d4-93f4-fa05b889642e",
   "metadata": {},
   "outputs": [
    {
     "name": "stdout",
     "output_type": "stream",
     "text": [
      "0\n",
      "1\n",
      "2\n",
      "3\n",
      "4\n",
      "5\n",
      "6\n",
      "7\n",
      "8\n",
      "9\n"
     ]
    }
   ],
   "source": [
    "for i in range(10):\n",
    "    print(i)"
   ]
  },
  {
   "cell_type": "code",
   "execution_count": 19,
   "id": "e5489b41-c01f-4d7e-858b-1fd59f223a60",
   "metadata": {},
   "outputs": [
    {
     "name": "stdout",
     "output_type": "stream",
     "text": [
      "2\n",
      "3\n",
      "4\n",
      "5\n",
      "6\n",
      "7\n",
      "8\n",
      "9\n",
      "10\n",
      "11\n",
      "12\n",
      "13\n",
      "14\n",
      "15\n",
      "16\n",
      "17\n",
      "18\n",
      "19\n",
      "20\n",
      "21\n",
      "22\n",
      "23\n",
      "24\n",
      "25\n",
      "26\n",
      "27\n",
      "28\n",
      "29\n"
     ]
    }
   ],
   "source": [
    "for i in range(2,30):\n",
    "    print(i)"
   ]
  },
  {
   "cell_type": "code",
   "execution_count": 21,
   "id": "2bee0a36-b03c-4f63-bad4-24bab70dcd94",
   "metadata": {},
   "outputs": [
    {
     "name": "stdout",
     "output_type": "stream",
     "text": [
      "1\n",
      "4\n",
      "7\n",
      "10\n"
     ]
    }
   ],
   "source": [
    "for i in range(1,11,3):\n",
    "    print(i)"
   ]
  },
  {
   "cell_type": "code",
   "execution_count": 23,
   "id": "8d1c7593-56ad-458b-b7c8-1579a6f0a520",
   "metadata": {},
   "outputs": [
    {
     "name": "stdout",
     "output_type": "stream",
     "text": [
      "10\n",
      "9\n",
      "8\n",
      "7\n",
      "6\n",
      "5\n",
      "4\n",
      "3\n",
      "2\n"
     ]
    }
   ],
   "source": [
    "for i in range(10,1,-1):\n",
    "    print(i)"
   ]
  },
  {
   "cell_type": "code",
   "execution_count": 25,
   "id": "bfe80117-11de-4188-81b5-ec8f9ec9b2f2",
   "metadata": {},
   "outputs": [
    {
     "name": "stdout",
     "output_type": "stream",
     "text": [
      "12\n",
      "11\n",
      "10\n",
      "9\n",
      "8\n",
      "7\n",
      "6\n",
      "5\n",
      "4\n",
      "3\n",
      "2\n",
      "1\n"
     ]
    }
   ],
   "source": [
    "for i in range(12,0,-1):\n",
    "    print(i)"
   ]
  },
  {
   "cell_type": "code",
   "execution_count": 27,
   "id": "74499b2c-f271-486f-a30f-e4e671115514",
   "metadata": {},
   "outputs": [],
   "source": [
    "# controlling"
   ]
  },
  {
   "cell_type": "code",
   "execution_count": 29,
   "id": "14048d18-77f6-4dca-bfee-5c1acd8fa38a",
   "metadata": {},
   "outputs": [
    {
     "name": "stdout",
     "output_type": "stream",
     "text": [
      "1\n",
      "2\n",
      "3\n"
     ]
    }
   ],
   "source": [
    "for i in range(1,13):\n",
    "    if (i%4==0):\n",
    "        break\n",
    "    print(i)"
   ]
  },
  {
   "cell_type": "code",
   "execution_count": 31,
   "id": "f88b0d69-727f-4d0b-9b1d-5204e72aeee5",
   "metadata": {},
   "outputs": [
    {
     "name": "stdout",
     "output_type": "stream",
     "text": [
      "0\n",
      "2\n",
      "4\n",
      "6\n",
      "8\n",
      "10\n"
     ]
    }
   ],
   "source": [
    "for i in range(11):\n",
    "    if (i%2!=0):\n",
    "        continue\n",
    "    print(i)"
   ]
  },
  {
   "cell_type": "code",
   "execution_count": 33,
   "id": "0d05aed4-d106-4805-9e83-f3b5e6943b04",
   "metadata": {},
   "outputs": [],
   "source": [
    "## nested loop"
   ]
  },
  {
   "cell_type": "code",
   "execution_count": 37,
   "id": "0693dbe9-c98b-4f3b-b2a4-8d28b04560a9",
   "metadata": {},
   "outputs": [
    {
     "name": "stdout",
     "output_type": "stream",
     "text": [
      "subodh\n",
      "subodh\n",
      "subodh\n",
      "subodh\n",
      "subodh\n",
      "subodh\n",
      "subodh\n",
      "subodh\n",
      "subodh\n",
      "subodh\n",
      "subodh\n",
      "subodh\n",
      "subodh\n",
      "subodh\n",
      "subodh\n",
      "subodh\n",
      "subodh\n",
      "subodh\n",
      "subodh\n",
      "subodh\n",
      "subodh\n",
      "subodh\n",
      "subodh\n",
      "subodh\n",
      "subodh\n",
      "subodh\n",
      "subodh\n",
      "subodh\n",
      "subodh\n",
      "subodh\n",
      "subodh\n",
      "subodh\n",
      "subodh\n",
      "subodh\n",
      "subodh\n",
      "subodh\n",
      "subodh\n",
      "subodh\n",
      "subodh\n",
      "subodh\n",
      "subodh\n",
      "subodh\n",
      "subodh\n",
      "subodh\n",
      "subodh\n",
      "subodh\n",
      "subodh\n",
      "subodh\n",
      "subodh\n",
      "subodh\n"
     ]
    }
   ],
   "source": [
    "for i in range(10):\n",
    "    for j in range(5):\n",
    "        print(\"subodh\")"
   ]
  },
  {
   "cell_type": "code",
   "execution_count": 3,
   "id": "994409c7-624e-454c-8566-eb1273caf846",
   "metadata": {},
   "outputs": [
    {
     "name": "stdout",
     "output_type": "stream",
     "text": [
      "0\n",
      "4\n",
      "8\n",
      "12\n",
      "0\n",
      "4\n",
      "8\n",
      "12\n",
      "0\n",
      "4\n",
      "8\n",
      "12\n",
      "0\n",
      "4\n",
      "8\n",
      "12\n"
     ]
    }
   ],
   "source": [
    "for i in range(4):\n",
    "    for j in range(13):\n",
    "        if j %4==0:\n",
    "            print (j)"
   ]
  },
  {
   "cell_type": "code",
   "execution_count": 5,
   "id": "e2dd1b18-103f-41b5-9ff4-5b9e0d940c72",
   "metadata": {},
   "outputs": [],
   "source": [
    "## while loop"
   ]
  },
  {
   "cell_type": "code",
   "execution_count": 7,
   "id": "2adab4a0-7cc6-489b-b2c9-21f5ebdf3fa1",
   "metadata": {},
   "outputs": [
    {
     "name": "stdout",
     "output_type": "stream",
     "text": [
      "subodh\n",
      "subodh\n",
      "subodh\n",
      "subodh\n",
      "subodh\n",
      "subodh\n",
      "subodh\n",
      "subodh\n",
      "subodh\n",
      "subodh\n"
     ]
    }
   ],
   "source": [
    "num=10\n",
    "while num>0:\n",
    "    print(\"subodh\")\n",
    "    num-=1"
   ]
  },
  {
   "cell_type": "markdown",
   "id": "6fb75c8e-8f5e-4350-b80c-13d6b78867c3",
   "metadata": {},
   "source": [
    "### problem using the loop & conditionals"
   ]
  },
  {
   "cell_type": "markdown",
   "id": "9b31d31e-86d6-40cc-80e1-5f06a41505f6",
   "metadata": {},
   "source": [
    "#### write a python program to print the sum of all the even number between 1 to 20 using the for loop"
   ]
  },
  {
   "cell_type": "code",
   "execution_count": 38,
   "id": "75d3b765-72a5-4241-8acb-bf8f55f74a8a",
   "metadata": {},
   "outputs": [
    {
     "name": "stdout",
     "output_type": "stream",
     "text": [
      "Sum of even numbers between 1 and 21 is: 110\n"
     ]
    }
   ],
   "source": [
    "even_sum = 0\n",
    "for num in range(1, 21):\n",
    "    if num % 2 == 0:\n",
    "        even_sum += num\n",
    "print(\"Sum of even numbers between 1 and 21 is:\", even_sum)"
   ]
  },
  {
   "cell_type": "code",
   "execution_count": 42,
   "id": "ed64248c-ff34-4eb6-9370-56e7b0b3730c",
   "metadata": {},
   "outputs": [
    {
     "name": "stdout",
     "output_type": "stream",
     "text": [
      "110\n"
     ]
    }
   ],
   "source": [
    "sum=0\n",
    "for i in range(1,21):\n",
    "    if i%2==0:\n",
    "        sum=sum+i\n",
    "print(sum)"
   ]
  },
  {
   "cell_type": "markdown",
   "id": "dc8690ff-1b5c-42d9-b499-1383af0bea66",
   "metadata": {},
   "source": [
    "#### write a python program to count the number of vowels in a given string"
   ]
  },
  {
   "cell_type": "code",
   "execution_count": 59,
   "id": "0958ccd2-c24a-47ba-99d3-a9b3fcf1a761",
   "metadata": {},
   "outputs": [
    {
     "name": "stdin",
     "output_type": "stream",
     "text": [
      "Enter your string:  i am subodh kumar yadav\n"
     ]
    },
    {
     "name": "stdout",
     "output_type": "stream",
     "text": [
      "8\n"
     ]
    }
   ],
   "source": [
    "count=0\n",
    "str=input(\"Enter your string: \")\n",
    "for ch in str:\n",
    "    if ch.lower() in ['a',' e','i','o','u']:\n",
    "        count=count+1\n",
    "print(count)"
   ]
  },
  {
   "cell_type": "markdown",
   "id": "2f415f1f-c5c7-420f-8b72-11d941c21d87",
   "metadata": {},
   "source": [
    "#### write a python program to print the fibonacci series up to n terms:"
   ]
  },
  {
   "cell_type": "code",
   "execution_count": 68,
   "id": "8dd1f0c0-16c7-4338-b2b6-94ed0e75b1f8",
   "metadata": {},
   "outputs": [
    {
     "name": "stdin",
     "output_type": "stream",
     "text": [
      "enter the number of terrms grator than 0:  7\n"
     ]
    },
    {
     "name": "stdout",
     "output_type": "stream",
     "text": [
      "0 1 1 2 3 5 8 "
     ]
    }
   ],
   "source": [
    "n=int(input(\"enter the number of terrms grator than 0: \"))\n",
    "a,b=0,1\n",
    "for i in range(n):\n",
    "    print(a,end=\" \")\n",
    "    a,b=b,a+b"
   ]
  },
  {
   "cell_type": "code",
   "execution_count": 72,
   "id": "1119dc49-9fce-40ba-be47-43ae0e9a0080",
   "metadata": {},
   "outputs": [
    {
     "name": "stdin",
     "output_type": "stream",
     "text": [
      "enter the number of terms that you want to print the fibonacci series:  4\n"
     ]
    },
    {
     "name": "stdout",
     "output_type": "stream",
     "text": [
      "0 1 1 2 "
     ]
    }
   ],
   "source": [
    "n=int (input(\"enter the number of terms that you want to print the fibonacci series: \"))\n",
    "if(n<0):\n",
    "    print(\"enter the grater the 0\")\n",
    "elif(n==0):\n",
    "    print(\"fibonacci series: 0\")\n",
    "else:\n",
    "    a,b=0,1\n",
    "    print(a,b,end=\" \")\n",
    "    for i in range(2,n):\n",
    "        print(a+b,end=\" \")\n",
    "        a,b=b,a+b\n",
    "        "
   ]
  },
  {
   "cell_type": "markdown",
   "id": "3609464b-7bbf-480e-828b-4cf2a9550cb4",
   "metadata": {},
   "source": [
    "#### write a program to check the number is prime or not"
   ]
  },
  {
   "cell_type": "code",
   "execution_count": 81,
   "id": "a89879d1-88ee-41e5-abed-0d1a6c68f4e9",
   "metadata": {},
   "outputs": [
    {
     "name": "stdin",
     "output_type": "stream",
     "text": [
      "enter the number:  3\n"
     ]
    },
    {
     "name": "stdout",
     "output_type": "stream",
     "text": [
      "prime:  True\n"
     ]
    }
   ],
   "source": [
    "n=int(input(\"enter the number: \"))\n",
    "isprime=True\n",
    "if(n<=1):\n",
    "    isprime=False\n",
    "for i in range(2,int(n/2)+1):\n",
    "    if i%2==0:\n",
    "        isprime=False\n",
    "print(\"prime: \",isprime)"
   ]
  },
  {
   "cell_type": "markdown",
   "id": "2676f531-2584-4eb5-bc76-7c163397ecff",
   "metadata": {},
   "source": [
    "#### write a python program to print the multiplication table of the given number"
   ]
  },
  {
   "cell_type": "code",
   "execution_count": 3,
   "id": "3b2f27db-3ba1-44ad-9eec-0bdd3312bb05",
   "metadata": {},
   "outputs": [
    {
     "name": "stdin",
     "output_type": "stream",
     "text": [
      "enter the number:  33\n"
     ]
    },
    {
     "name": "stdout",
     "output_type": "stream",
     "text": [
      "33*1= 33\n",
      "33*2= 66\n",
      "33*3= 99\n",
      "33*4= 132\n",
      "33*5= 165\n",
      "33*6= 198\n",
      "33*7= 231\n",
      "33*8= 264\n",
      "33*9= 297\n",
      "33*10= 330\n"
     ]
    }
   ],
   "source": [
    "n=int(input(\"enter the number: \"))\n",
    "for i in range(1,11):\n",
    "    print(f\"{n}*{i}=\",n*i)\n",
    "    "
   ]
  },
  {
   "cell_type": "markdown",
   "id": "19d3e1d3-ac41-464e-86da-62b279c8fb1e",
   "metadata": {},
   "source": [
    "#### Pattern printing"
   ]
  },
  {
   "cell_type": "code",
   "execution_count": 8,
   "id": "6c332b37-381a-4685-bfcc-0d2a9d4c9812",
   "metadata": {},
   "outputs": [
    {
     "name": "stdout",
     "output_type": "stream",
     "text": [
      "*\n",
      "**\n",
      "***\n",
      "****\n",
      "*****\n"
     ]
    }
   ],
   "source": [
    "\"\"\"\"\"   *\n",
    "        **\n",
    "        ***\n",
    "        ****\n",
    "        *****\n",
    "\"\"\"\n",
    "\n",
    "for i in range(5):\n",
    "    for j in range(i+1):\n",
    "        print(\"*\",end=\"\")\n",
    "    print()"
   ]
  },
  {
   "cell_type": "code",
   "execution_count": null,
   "id": "46c5b48e-3653-4ffb-b03a-a5d09a64cf29",
   "metadata": {},
   "outputs": [],
   "source": []
  }
 ],
 "metadata": {
  "kernelspec": {
   "display_name": "Python 3 (ipykernel)",
   "language": "python",
   "name": "python3"
  },
  "language_info": {
   "codemirror_mode": {
    "name": "ipython",
    "version": 3
   },
   "file_extension": ".py",
   "mimetype": "text/x-python",
   "name": "python",
   "nbconvert_exporter": "python",
   "pygments_lexer": "ipython3",
   "version": "3.12.3"
  }
 },
 "nbformat": 4,
 "nbformat_minor": 5
}
