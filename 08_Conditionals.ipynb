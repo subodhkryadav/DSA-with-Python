{
 "cells": [
  {
   "cell_type": "markdown",
   "id": "015fddab-6084-46ea-842d-7ed860b5831b",
   "metadata": {},
   "source": [
    "## conditionals"
   ]
  },
  {
   "cell_type": "code",
   "execution_count": 2,
   "id": "97f5a66b-3d86-46f8-9a2b-dab2f19fc499",
   "metadata": {},
   "outputs": [
    {
     "name": "stdout",
     "output_type": "stream",
     "text": [
      "number is less or equl to the 12\n"
     ]
    }
   ],
   "source": [
    "num=12;\n",
    "if num>12:\n",
    "    print(\"number is greator than the 12\")\n",
    "else:\n",
    "    print(\"number is less or equl to the 12\")"
   ]
  },
  {
   "cell_type": "code",
   "execution_count": 6,
   "id": "23aa91ce-b101-4e27-b91f-3c986b0528c3",
   "metadata": {},
   "outputs": [
    {
     "name": "stdin",
     "output_type": "stream",
     "text": [
      "enter the number:  12\n"
     ]
    },
    {
     "name": "stdout",
     "output_type": "stream",
     "text": [
      "the number is even number\n"
     ]
    }
   ],
   "source": [
    "num=int(input(\"enter the number: \"))\n",
    "if(num%2==0):\n",
    "    print(\"the number is even number\")\n",
    "else:\n",
    "    print(\"the number is odd number\")"
   ]
  },
  {
   "cell_type": "code",
   "execution_count": 8,
   "id": "9ee2989c-3267-4870-88ee-b5beb78901e5",
   "metadata": {},
   "outputs": [
    {
     "name": "stdout",
     "output_type": "stream",
     "text": [
      "inside if\n"
     ]
    }
   ],
   "source": [
    "# truly values:\n",
    "if 5:\n",
    "    print(\"inside if\")"
   ]
  },
  {
   "cell_type": "code",
   "execution_count": 10,
   "id": "ca8988d2-2965-4e03-98f1-62dd1f44e77e",
   "metadata": {},
   "outputs": [
    {
     "name": "stdout",
     "output_type": "stream",
     "text": [
      "inside else\n"
     ]
    }
   ],
   "source": [
    "# falsy values\n",
    "if 0:\n",
    "    print(\"inside if\")\n",
    "else:\n",
    "    print(\"inside else\")"
   ]
  },
  {
   "cell_type": "code",
   "execution_count": null,
   "id": "668257ad-0c47-4f51-8e24-a699d7164e4b",
   "metadata": {},
   "outputs": [],
   "source": []
  },
  {
   "cell_type": "code",
   "execution_count": 1,
   "id": "1a7572d7-d532-4030-8751-2e22198a6140",
   "metadata": {},
   "outputs": [
    {
     "name": "stdin",
     "output_type": "stream",
     "text": [
      "Enter the marks:  4\n"
     ]
    },
    {
     "name": "stdout",
     "output_type": "stream",
     "text": [
      "you are fail\n"
     ]
    }
   ],
   "source": [
    "marks=int(input(\"Enter the marks: \"))\n",
    "if(marks>=90):\n",
    "    print(\"A\")\n",
    "elif(marks>=60):\n",
    "    print(\"B\")\n",
    "elif(marks>=30):\n",
    "    print(\"pass\")\n",
    "else:\n",
    "    print(\"you are fail\")"
   ]
  },
  {
   "cell_type": "code",
   "execution_count": 7,
   "id": "985f4dd0-fa43-493f-97e3-5654ab4601f9",
   "metadata": {},
   "outputs": [
    {
     "name": "stdout",
     "output_type": "stream",
     "text": [
      "indside if\n"
     ]
    }
   ],
   "source": [
    "if 5:\n",
    "    print(\"indside if\")   # this is called the trully condtion"
   ]
  },
  {
   "cell_type": "code",
   "execution_count": 9,
   "id": "f0e6303a-42f0-4a11-9bb3-ebaaad2a3b11",
   "metadata": {},
   "outputs": [
    {
     "name": "stdout",
     "output_type": "stream",
     "text": [
      "inside else\n"
     ]
    }
   ],
   "source": [
    "if 0:\n",
    "    print(\"inside if\")\n",
    "else:\n",
    "    print(\"inside else\")   # this is called false condition"
   ]
  },
  {
   "cell_type": "code",
   "execution_count": 12,
   "id": "120f769b-847d-49f3-94d0-694aaa1a4ba0",
   "metadata": {},
   "outputs": [],
   "source": [
    "## Nested condition"
   ]
  },
  {
   "cell_type": "code",
   "execution_count": 18,
   "id": "2acfc412-5ab9-46cd-96fe-12cec32ce895",
   "metadata": {},
   "outputs": [
    {
     "name": "stdout",
     "output_type": "stream",
     "text": [
      "x is less than 5 or Equal to 5\n"
     ]
    }
   ],
   "source": [
    "x=4\n",
    "if x>5:\n",
    "    print(\"x is grator than 5\")\n",
    "    if x%2==0:\n",
    "        print(\"even\")\n",
    "    else:\n",
    "        print(\"odd\")\n",
    "else:\n",
    "    print(\"x is less than 5 or Equal to 5\")"
   ]
  },
  {
   "cell_type": "code",
   "execution_count": 20,
   "id": "83722898-a8c4-4e19-a194-f2a3f59ff9be",
   "metadata": {},
   "outputs": [],
   "source": [
    "### Ternary Operator"
   ]
  },
  {
   "cell_type": "code",
   "execution_count": 36,
   "id": "aee88fe6-0002-4c84-a948-832951761a9d",
   "metadata": {},
   "outputs": [
    {
     "name": "stdout",
     "output_type": "stream",
     "text": [
      "positive\n"
     ]
    }
   ],
   "source": [
    "num=5\n",
    "result=\"positive\" if num>0 else \"negative\"\n",
    "print(result)"
   ]
  },
  {
   "cell_type": "code",
   "execution_count": 38,
   "id": "5fe611bc-431f-4ffa-bb50-d745317ff85b",
   "metadata": {},
   "outputs": [],
   "source": [
    "### switch statemetn"
   ]
  },
  {
   "cell_type": "code",
   "execution_count": 40,
   "id": "97ca7db9-c610-4f7d-b3d0-65dcccaf35b9",
   "metadata": {},
   "outputs": [],
   "source": [
    "## in python the key is used to the match and case"
   ]
  },
  {
   "cell_type": "code",
   "execution_count": 46,
   "id": "410e253f-8185-4d48-bbd2-8e0890c3a153",
   "metadata": {},
   "outputs": [
    {
     "name": "stdout",
     "output_type": "stream",
     "text": [
      "wednesday\n"
     ]
    }
   ],
   "source": [
    "day_num=4\n",
    "match day_num:\n",
    "    case 1:\n",
    "        print(\"sunday\")\n",
    "    case 2: \n",
    "        print(\"monday\")\n",
    "    case 3:\n",
    "        print(\"tuesday\")\n",
    "    case 4:\n",
    "        print(\"wednesday\")\n",
    "    case 5:\n",
    "        print(\"thursday\")\n",
    "    case 6:\n",
    "        print(\"friday\")\n",
    "    case 7:\n",
    "        print(\"sat\")\n",
    "    case _:\n",
    "        print(\"invalid day_number\")"
   ]
  },
  {
   "cell_type": "code",
   "execution_count": null,
   "id": "de11e0d1-c339-4d46-be07-9074a1175481",
   "metadata": {},
   "outputs": [],
   "source": []
  }
 ],
 "metadata": {
  "kernelspec": {
   "display_name": "Python 3 (ipykernel)",
   "language": "python",
   "name": "python3"
  },
  "language_info": {
   "codemirror_mode": {
    "name": "ipython",
    "version": 3
   },
   "file_extension": ".py",
   "mimetype": "text/x-python",
   "name": "python",
   "nbconvert_exporter": "python",
   "pygments_lexer": "ipython3",
   "version": "3.12.3"
  }
 },
 "nbformat": 4,
 "nbformat_minor": 5
}
