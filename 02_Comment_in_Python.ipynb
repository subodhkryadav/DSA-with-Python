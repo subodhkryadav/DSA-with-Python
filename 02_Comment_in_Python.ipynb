{
 "cells": [
  {
   "cell_type": "markdown",
   "id": "a53c631c-9fa8-4e52-8cb9-b61742b90ed0",
   "metadata": {},
   "source": [
    "# Comment"
   ]
  },
  {
   "cell_type": "code",
   "execution_count": 2,
   "id": "703fb2bf-ac13-46d7-9292-d3eed2a6ccb3",
   "metadata": {},
   "outputs": [],
   "source": [
    "# comment:- that code not the executed, and not read the interpreter "
   ]
  },
  {
   "cell_type": "code",
   "execution_count": 6,
   "id": "84453883-cdfa-49cc-b11d-245232ef8dc1",
   "metadata": {},
   "outputs": [
    {
     "name": "stdout",
     "output_type": "stream",
     "text": [
      "7\n"
     ]
    }
   ],
   "source": [
    "a=4\n",
    "b=3\n",
    "print(a+b)\n",
    "# this is the addition of the two number "
   ]
  },
  {
   "cell_type": "code",
   "execution_count": 8,
   "id": "76f2de0e-e378-4760-b265-606781c4d4da",
   "metadata": {},
   "outputs": [],
   "source": [
    "#1. single line comment:- Start with the '#'\n",
    "#2.multiline comment:- start and end with the ''' comment'''"
   ]
  },
  {
   "cell_type": "code",
   "execution_count": 16,
   "id": "46d211b1-8dc5-40a3-a415-e5c2db16db14",
   "metadata": {},
   "outputs": [
    {
     "name": "stdout",
     "output_type": "stream",
     "text": [
      "subodh\n"
     ]
    }
   ],
   "source": [
    "name=\"subodh\"\n",
    "'''hello my name is subodh kumar yadav, i am b.tech 3rd year student '''\n",
    "print(name)"
   ]
  },
  {
   "cell_type": "code",
   "execution_count": null,
   "id": "727cae84-ab1c-4419-9a77-7cea89910a65",
   "metadata": {},
   "outputs": [],
   "source": [
    "# multiline comment is also known as DOC string"
   ]
  }
 ],
 "metadata": {
  "kernelspec": {
   "display_name": "Python 3 (ipykernel)",
   "language": "python",
   "name": "python3"
  },
  "language_info": {
   "codemirror_mode": {
    "name": "ipython",
    "version": 3
   },
   "file_extension": ".py",
   "mimetype": "text/x-python",
   "name": "python",
   "nbconvert_exporter": "python",
   "pygments_lexer": "ipython3",
   "version": "3.12.3"
  }
 },
 "nbformat": 4,
 "nbformat_minor": 5
}
