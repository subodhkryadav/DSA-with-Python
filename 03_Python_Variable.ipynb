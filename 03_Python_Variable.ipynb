{
 "cells": [
  {
   "cell_type": "code",
   "execution_count": 1,
   "id": "4da4bfad-ee2c-47ce-9d3e-cdf30852b53c",
   "metadata": {},
   "outputs": [],
   "source": [
    "# Variable:- it is a contailner that store the data"
   ]
  },
  {
   "cell_type": "code",
   "execution_count": 3,
   "id": "8ce8c9cf-9254-420c-9317-8cf32451e408",
   "metadata": {},
   "outputs": [],
   "source": [
    "#1.statically typed:- in the time of the declare also mention its type\n",
    "#2.Dynamically typed:- in the time of the declare not to mention its type"
   ]
  },
  {
   "cell_type": "code",
   "execution_count": 4,
   "id": "79b0ff69-d760-441c-a228-f9a657aab92a",
   "metadata": {},
   "outputs": [
    {
     "name": "stdout",
     "output_type": "stream",
     "text": [
      "5\n"
     ]
    }
   ],
   "source": [
    "x=5\n",
    "print(x)"
   ]
  },
  {
   "cell_type": "code",
   "execution_count": 5,
   "id": "838005fc-f088-41db-b6f1-784f65e8f02c",
   "metadata": {},
   "outputs": [
    {
     "name": "stdout",
     "output_type": "stream",
     "text": [
      "<class 'int'>\n"
     ]
    }
   ],
   "source": [
    "print(type(x))   #type of the variable"
   ]
  },
  {
   "cell_type": "code",
   "execution_count": 6,
   "id": "5f889916-6dab-49e7-9e19-29b32781b639",
   "metadata": {},
   "outputs": [
    {
     "name": "stdout",
     "output_type": "stream",
     "text": [
      "<class 'int'>\n"
     ]
    }
   ],
   "source": [
    "y=5\n",
    "print(type(y))"
   ]
  },
  {
   "cell_type": "code",
   "execution_count": 7,
   "id": "2dadf637-0654-479d-ac61-050b75d26d83",
   "metadata": {},
   "outputs": [
    {
     "name": "stdout",
     "output_type": "stream",
     "text": [
      "140703951510072\n",
      "140703951510072\n"
     ]
    }
   ],
   "source": [
    "# id means the program address too execute\n",
    "a=5\n",
    "b=5\n",
    "print(id(a))\n",
    "print(id(b))"
   ]
  },
  {
   "cell_type": "code",
   "execution_count": 8,
   "id": "6a6dce41-0568-4176-8e7c-2c127e48356a",
   "metadata": {},
   "outputs": [],
   "source": [
    "# above the both var same value assign so it address will be same to be pointed"
   ]
  }
 ],
 "metadata": {
  "kernelspec": {
   "display_name": "Python 3 (ipykernel)",
   "language": "python",
   "name": "python3"
  },
  "language_info": {
   "codemirror_mode": {
    "name": "ipython",
    "version": 3
   },
   "file_extension": ".py",
   "mimetype": "text/x-python",
   "name": "python",
   "nbconvert_exporter": "python",
   "pygments_lexer": "ipython3",
   "version": "3.12.3"
  }
 },
 "nbformat": 4,
 "nbformat_minor": 5
}
