{
 "cells": [
  {
   "cell_type": "code",
   "execution_count": 7,
   "id": "09d63c5c-f848-4284-a0d4-1a17f271f01d",
   "metadata": {},
   "outputs": [
    {
     "name": "stdin",
     "output_type": "stream",
     "text": [
      "Enter the size of the array: 5\n",
      "Enter the array 1 element:  43\n",
      "Enter the array 2 element:  3\n",
      "Enter the array 3 element:  34\n",
      "Enter the array 4 element:  78\n",
      "Enter the array 5 element:  0\n"
     ]
    },
    {
     "name": "stdout",
     "output_type": "stream",
     "text": [
      "input array is:  [43, 3, 34, 78, 0]\n",
      "  Sorted array:  [0, 3, 34, 43, 78]\n"
     ]
    }
   ],
   "source": [
    "def merge_sort(arr):\n",
    "    if len(arr)<=1:\n",
    "        return arr\n",
    "    mid=len(arr)//2\n",
    "    left_half=arr[:mid]\n",
    "    right_half=arr[mid:]\n",
    "    left_half=merge_sort(left_half)\n",
    "    right_half=merge_sort(right_half)\n",
    "    return merge(left_half,right_half)\n",
    "\n",
    "def merge(left,right):\n",
    "    new=[]\n",
    "    i,j=0,0\n",
    "    while i<len(left) and j<len(right):\n",
    "        if left[i]<right[j]:\n",
    "            new.append(left[i])\n",
    "            i+=1\n",
    "        else:\n",
    "            new.append(right[j])\n",
    "            j+=1\n",
    "    new.extend(left[i:])\n",
    "    new.extend(right[j:])\n",
    "    return new\n",
    "\n",
    "arr=[]\n",
    "n=int(input(\"Enter the size of the array:\"))\n",
    "for i in range(n):\n",
    "    element=int(input(f\"Enter the array {i+1} element: \"))\n",
    "    arr.append(element)\n",
    "print(\"input array is: \",arr)\n",
    "print(\"  Sorted array: \",merge_sort(arr))"
   ]
  },
  {
   "cell_type": "code",
   "execution_count": null,
   "id": "309d8b47-a1c5-4eca-a560-5f95130dffda",
   "metadata": {},
   "outputs": [],
   "source": []
  }
 ],
 "metadata": {
  "kernelspec": {
   "display_name": "Python 3 (ipykernel)",
   "language": "python",
   "name": "python3"
  },
  "language_info": {
   "codemirror_mode": {
    "name": "ipython",
    "version": 3
   },
   "file_extension": ".py",
   "mimetype": "text/x-python",
   "name": "python",
   "nbconvert_exporter": "python",
   "pygments_lexer": "ipython3",
   "version": "3.12.3"
  }
 },
 "nbformat": 4,
 "nbformat_minor": 5
}
