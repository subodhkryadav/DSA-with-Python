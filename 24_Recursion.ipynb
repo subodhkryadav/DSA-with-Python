{
 "cells": [
  {
   "cell_type": "markdown",
   "id": "3986b014-9129-4080-8f87-80879fb88055",
   "metadata": {},
   "source": [
    "## Recursion:- A function call itself in order to solve a problem"
   ]
  },
  {
   "cell_type": "markdown",
   "id": "f4bf729d-eb12-4f25-8649-d30b3630db19",
   "metadata": {},
   "source": [
    "#### factorial of a number"
   ]
  },
  {
   "cell_type": "code",
   "execution_count": 5,
   "id": "50a7d931-c484-4fd7-9ad1-26b629c9a2c2",
   "metadata": {},
   "outputs": [
    {
     "name": "stdin",
     "output_type": "stream",
     "text": [
      "Enter the number:  5\n"
     ]
    },
    {
     "name": "stdout",
     "output_type": "stream",
     "text": [
      "factorial of 5 is:  120\n"
     ]
    }
   ],
   "source": [
    "def factorial(n):\n",
    "    if n==0:\n",
    "        return 1\n",
    "    else:\n",
    "        return n* factorial(n-1)\n",
    "n=int(input(\"Enter the number: \"))\n",
    "print(f\"factorial of {n} is: \",factorial(n))"
   ]
  },
  {
   "cell_type": "markdown",
   "id": "7cb4ecaa-ffa3-4741-8ffe-bdea534c8000",
   "metadata": {},
   "source": [
    "#### Fibbonacci Series(value)"
   ]
  },
  {
   "cell_type": "code",
   "execution_count": 24,
   "id": "cff578c3-a6df-4f9e-8818-b495c3904140",
   "metadata": {},
   "outputs": [
    {
     "name": "stdin",
     "output_type": "stream",
     "text": [
      "Enter how many terms:  8\n"
     ]
    },
    {
     "name": "stdout",
     "output_type": "stream",
     "text": [
      "the fibbonacci series of 7th position is:-  21\n"
     ]
    }
   ],
   "source": [
    "def fibbonacci_Series(n):\n",
    "    if n<=1:\n",
    "        return n\n",
    "    else:\n",
    "        return fibbonacci_Series(n-1)+fibbonacci_Series(n-2)\n",
    "\n",
    "n=int(input(\"Enter how many terms: \"))\n",
    "print(f\"the fibbonacci series of {n-1}th position is:- \",fibbonacci_Series(n))"
   ]
  },
  {
   "cell_type": "markdown",
   "id": "7817d60c-d8a6-4b4f-bf50-e8b6d4a58271",
   "metadata": {},
   "source": [
    "#### fibbonacci series print"
   ]
  },
  {
   "cell_type": "code",
   "execution_count": 20,
   "id": "00e91f46-8ff2-457f-b205-ef5cdac91fea",
   "metadata": {},
   "outputs": [
    {
     "name": "stdin",
     "output_type": "stream",
     "text": [
      "Enter how many terms:  7\n"
     ]
    },
    {
     "name": "stdout",
     "output_type": "stream",
     "text": [
      "Fibbonacci series: \n",
      "0 1 1 2 3 5 8 "
     ]
    }
   ],
   "source": [
    "def fibbonacci_series(n):\n",
    "    if n<=1:\n",
    "        return n\n",
    "    else:\n",
    "        return fibbonacci_series(n-1)+fibbonacci_series(n-2)\n",
    "n=int(input(\"Enter how many terms: \"))\n",
    "print(\"Fibbonacci series: \")\n",
    "for i in range(n):\n",
    "    print(fibbonacci_series(i),end=\" \")"
   ]
  },
  {
   "cell_type": "markdown",
   "id": "d7fb0ef6-b197-46d9-88f1-7b3fd92c0b68",
   "metadata": {},
   "source": [
    "### Sum of array using the Recursion"
   ]
  },
  {
   "cell_type": "code",
   "execution_count": 39,
   "id": "fa968aa5-047d-4c3e-81b2-3e41e5efa14c",
   "metadata": {},
   "outputs": [
    {
     "name": "stdin",
     "output_type": "stream",
     "text": [
      "Enter the size of the array:  5\n",
      "Enter the array 1 element:  4\n",
      "Enter the array 2 element:  5\n",
      "Enter the array 3 element:  3\n",
      "Enter the array 4 element:  2\n",
      "Enter the array 5 element:  1\n"
     ]
    },
    {
     "name": "stdout",
     "output_type": "stream",
     "text": [
      "input array:  [4, 5, 3, 2, 1]\n",
      "Sum of the given array is:  15\n"
     ]
    }
   ],
   "source": [
    "def Sum_of_Array(arr,n):\n",
    "    if n==0:\n",
    "        return 0\n",
    "    else:\n",
    "        return Sum_of_Array(arr,n-1)+arr[n-1]\n",
    "\n",
    "\n",
    "\n",
    "\n",
    "arr=[]\n",
    "n=int(input(\"Enter the size of the array: \"))\n",
    "for i in range(n):\n",
    "    element=int(input(f\"Enter the array {i+1} element: \"))\n",
    "    arr.append(element)\n",
    "print(\"input array: \",arr)\n",
    "print(\"Sum of the given array is: \",Sum_of_Array(arr,n))"
   ]
  },
  {
   "cell_type": "markdown",
   "id": "d73bbfde-e27a-4885-aa6e-ef4f622300b6",
   "metadata": {},
   "source": [
    "#### sum of array without recursion"
   ]
  },
  {
   "cell_type": "code",
   "execution_count": 51,
   "id": "0af64abe-a6b9-466e-a6ad-3223e0c7716a",
   "metadata": {},
   "outputs": [
    {
     "name": "stdin",
     "output_type": "stream",
     "text": [
      "Enter the size of the array:  4\n",
      "Enter the array 1 element:  4\n",
      "Enter the array 2 element:  3\n",
      "Enter the array 3 element:  2\n",
      "Enter the array 4 element:  1\n"
     ]
    },
    {
     "name": "stdout",
     "output_type": "stream",
     "text": [
      "input array:  [4, 3, 2, 1]\n",
      "sum is  10\n"
     ]
    }
   ],
   "source": [
    "def Sum_of(arr):\n",
    "    sum=0\n",
    "    for i in arr:\n",
    "        sum=sum+i\n",
    "    return sum\n",
    "\n",
    "arr=[]\n",
    "n=int(input(\"Enter the size of the array: \"))\n",
    "for i in range(n):\n",
    "    element=int(input(f\"Enter the array {i+1} element: \"))\n",
    "    arr.append(element)\n",
    "print(\"input array: \",arr)\n",
    "print(\"sum is \",Sum_of(arr))"
   ]
  },
  {
   "cell_type": "markdown",
   "id": "9ee3ba0d-047f-403a-b74c-1e850ab47d97",
   "metadata": {},
   "source": [
    "#### print 1 to n using Recursion"
   ]
  },
  {
   "cell_type": "code",
   "execution_count": 55,
   "id": "d658f90f-a2db-4a8e-a592-4ffe659f2de5",
   "metadata": {},
   "outputs": [
    {
     "name": "stdin",
     "output_type": "stream",
     "text": [
      "Enter the n:  5\n"
     ]
    },
    {
     "name": "stdout",
     "output_type": "stream",
     "text": [
      "1\n",
      "2\n",
      "3\n",
      "4\n",
      "5\n"
     ]
    }
   ],
   "source": [
    "def Print1ToN(n):\n",
    "    if n>0:\n",
    "        Print1ToN(n-1)\n",
    "        print(n)\n",
    "n=int(input(\"Enter the n: \"))\n",
    "Print1ToN(n)"
   ]
  },
  {
   "cell_type": "markdown",
   "id": "5151ec57-cd7a-4a50-97a5-6b06ebd55330",
   "metadata": {},
   "source": [
    "#### print n ot 1"
   ]
  },
  {
   "cell_type": "code",
   "execution_count": 63,
   "id": "320fc004-a63a-41f6-88cd-8509065a1cb6",
   "metadata": {},
   "outputs": [
    {
     "name": "stdout",
     "output_type": "stream",
     "text": [
      "5\n",
      "4\n",
      "3\n",
      "2\n",
      "1\n"
     ]
    }
   ],
   "source": [
    "def PrintN_to_ONE(n):\n",
    "    if n>0:\n",
    "        print(n)\n",
    "        PrintN_to_ONE(n-1)\n",
    "PrintN_to_ONE(5)"
   ]
  },
  {
   "cell_type": "markdown",
   "id": "a7aac484-f1f0-4029-bb92-88f5e1b746fa",
   "metadata": {},
   "source": [
    "#### number of ways to find the stairs"
   ]
  },
  {
   "cell_type": "code",
   "execution_count": 15,
   "id": "26912f30-cd04-4577-ad89-c477203e2d34",
   "metadata": {},
   "outputs": [
    {
     "name": "stdin",
     "output_type": "stream",
     "text": [
      "Enter the N:  2\n"
     ]
    },
    {
     "name": "stdout",
     "output_type": "stream",
     "text": [
      "ways to go the climb 2\n"
     ]
    }
   ],
   "source": [
    "def Stairs(n):\n",
    "    if n<0:\n",
    "        return 0\n",
    "    elif n==0:\n",
    "        return 1\n",
    "    else:\n",
    "        return Stairs(n-1)+Stairs(n-2)\n",
    "        ### when n=2 then it find the n-2 as well as the n-1 its like base condition\n",
    "\n",
    "n=int(input(\"Enter the N: \")) \n",
    "print(\"ways to go the climb\",Stairs(n))"
   ]
  },
  {
   "cell_type": "markdown",
   "id": "87a9791d-aeb5-43ee-b336-a970e154958c",
   "metadata": {},
   "source": [
    "#### binary search with the help of the recursion"
   ]
  },
  {
   "cell_type": "code",
   "execution_count": 24,
   "id": "88ac5d2f-47eb-4601-a6b3-9f4a0eded37f",
   "metadata": {},
   "outputs": [
    {
     "name": "stdin",
     "output_type": "stream",
     "text": [
      "Enter the size of the array:  5\n"
     ]
    },
    {
     "name": "stdout",
     "output_type": "stream",
     "text": [
      "Enter the Sorted array: \n"
     ]
    },
    {
     "name": "stdin",
     "output_type": "stream",
     "text": [
      "Enter the array 1 element:  4\n",
      "Enter the array 2 element:  56\n",
      "Enter the array 3 element:  57\n",
      "Enter the array 4 element:  59\n",
      "Enter the array 5 element:  60\n",
      "Enter the searching ELement:  60\n"
     ]
    },
    {
     "name": "stdout",
     "output_type": "stream",
     "text": [
      "Input Array:  [4, 56, 57, 59, 60]\n",
      "Element found ar the index of :-  4\n"
     ]
    }
   ],
   "source": [
    "def BinarySearch(arr,left,right,target):\n",
    "    if left>right:\n",
    "        return -1\n",
    "    else:\n",
    "        mid=left+(right-left)//2\n",
    "        if arr[mid]==target:\n",
    "            return mid\n",
    "        elif arr[mid]>target:\n",
    "            return BinarySearch(arr,left,mid-1,target)\n",
    "        else:\n",
    "            return BinarySearch(arr,mid+1,right,target)\n",
    "\n",
    "arr=[]\n",
    "n=int(input(\"Enter the size of the array: \"))\n",
    "low=0\n",
    "high=n-1\n",
    "print(\"Enter the Sorted array: \")\n",
    "for i in range(n):\n",
    "    element=int(input(f\"Enter the array {i+1} element: \"))\n",
    "    arr.append(element)\n",
    "searching_element=int(input(\"Enter the searching ELement: \"))\n",
    "print(\"Input Array: \",arr)\n",
    "print(\"Element found ar the index of :- \",BinarySearch(arr,low,high,searching_element))"
   ]
  },
  {
   "cell_type": "markdown",
   "id": "c3f264c1-ad04-4297-851c-b1fa7e6bc267",
   "metadata": {},
   "source": [
    "### string subset"
   ]
  },
  {
   "cell_type": "code",
   "execution_count": 33,
   "id": "9a614698-a2c9-4a50-84b9-dcf84b293a30",
   "metadata": {},
   "outputs": [
    {
     "name": "stdout",
     "output_type": "stream",
     "text": [
      "abcd\n",
      "------------\n",
      "abc\n",
      "------------\n",
      "abd\n",
      "------------\n",
      "ab\n",
      "------------\n",
      "acd\n",
      "------------\n",
      "ac\n",
      "------------\n",
      "ad\n",
      "------------\n",
      "a\n",
      "------------\n",
      "bcd\n",
      "------------\n",
      "bc\n",
      "------------\n",
      "bd\n",
      "------------\n",
      "b\n",
      "------------\n",
      "cd\n",
      "------------\n",
      "c\n",
      "------------\n",
      "d\n",
      "------------\n",
      "\n",
      "------------\n"
     ]
    }
   ],
   "source": [
    "def generate_subset(st,current=\"\",index=0):\n",
    "    if index==len(st):\n",
    "        print(current)\n",
    "        print(\"------------\")\n",
    "        return \n",
    "    generate_subset(st,current+st[index],index+1)\n",
    "    generate_subset(st,current,index+1)\n",
    "\n",
    "example='abcd'\n",
    "generate_subset(example)"
   ]
  },
  {
   "cell_type": "code",
   "execution_count": null,
   "id": "c22b5f04-c7b7-47f3-af94-b8316b794caf",
   "metadata": {},
   "outputs": [],
   "source": []
  }
 ],
 "metadata": {
  "kernelspec": {
   "display_name": "Python 3 (ipykernel)",
   "language": "python",
   "name": "python3"
  },
  "language_info": {
   "codemirror_mode": {
    "name": "ipython",
    "version": 3
   },
   "file_extension": ".py",
   "mimetype": "text/x-python",
   "name": "python",
   "nbconvert_exporter": "python",
   "pygments_lexer": "ipython3",
   "version": "3.12.3"
  }
 },
 "nbformat": 4,
 "nbformat_minor": 5
}
