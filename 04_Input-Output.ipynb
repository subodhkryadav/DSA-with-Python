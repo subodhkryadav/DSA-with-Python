{
 "cells": [
  {
   "cell_type": "markdown",
   "id": "162f9a0f-803b-4cc8-903f-cd77689dbff1",
   "metadata": {},
   "source": [
    "# Input"
   ]
  },
  {
   "cell_type": "code",
   "execution_count": 4,
   "id": "d3f3f6fa-d00d-4b52-b03c-0379d62cb953",
   "metadata": {},
   "outputs": [],
   "source": [
    "# python give the builin function to take the input:- input()\n"
   ]
  },
  {
   "cell_type": "code",
   "execution_count": 6,
   "id": "49848a4d-51d9-49c6-9619-65dda8c34fcc",
   "metadata": {},
   "outputs": [
    {
     "name": "stdin",
     "output_type": "stream",
     "text": [
      " subodh\n"
     ]
    },
    {
     "data": {
      "text/plain": [
       "'subodh'"
      ]
     },
     "execution_count": 6,
     "metadata": {},
     "output_type": "execute_result"
    }
   ],
   "source": [
    "input()"
   ]
  },
  {
   "cell_type": "code",
   "execution_count": 8,
   "id": "acc5dd81-94d4-4a07-aabf-5938709daa08",
   "metadata": {},
   "outputs": [],
   "source": [
    "# always take the string value"
   ]
  },
  {
   "cell_type": "code",
   "execution_count": 10,
   "id": "11469a7f-a02c-4138-a33b-90e01af97184",
   "metadata": {},
   "outputs": [
    {
     "name": "stdin",
     "output_type": "stream",
     "text": [
      "enter the name:  subodh\n"
     ]
    }
   ],
   "source": [
    "name=input(\"enter the name: \")"
   ]
  },
  {
   "cell_type": "code",
   "execution_count": 12,
   "id": "d31e1d12-e4e2-46bb-b724-c22ec248d3dd",
   "metadata": {},
   "outputs": [
    {
     "name": "stdout",
     "output_type": "stream",
     "text": [
      "subodh\n"
     ]
    }
   ],
   "source": [
    "print(name)"
   ]
  },
  {
   "cell_type": "code",
   "execution_count": 14,
   "id": "5c58260c-03ea-4505-9ba2-981ce2b7e6c0",
   "metadata": {},
   "outputs": [
    {
     "data": {
      "text/plain": [
       "str"
      ]
     },
     "execution_count": 14,
     "metadata": {},
     "output_type": "execute_result"
    }
   ],
   "source": [
    "type(name)"
   ]
  },
  {
   "cell_type": "code",
   "execution_count": 16,
   "id": "a01072c7-d544-4807-aa7e-c569214f8fc0",
   "metadata": {},
   "outputs": [],
   "source": [
    "# add the type of the input"
   ]
  },
  {
   "cell_type": "code",
   "execution_count": 18,
   "id": "f1193fd0-a9ce-4297-88d4-aad2a532caf6",
   "metadata": {},
   "outputs": [
    {
     "name": "stdin",
     "output_type": "stream",
     "text": [
      "enter the age:  20\n"
     ]
    }
   ],
   "source": [
    "age=int(input(\"enter the age: \"))"
   ]
  },
  {
   "cell_type": "code",
   "execution_count": 20,
   "id": "b46302f7-fc15-47b6-92fa-ff75fb32c991",
   "metadata": {},
   "outputs": [
    {
     "data": {
      "text/plain": [
       "20"
      ]
     },
     "execution_count": 20,
     "metadata": {},
     "output_type": "execute_result"
    }
   ],
   "source": [
    "age"
   ]
  },
  {
   "cell_type": "code",
   "execution_count": 22,
   "id": "8e22eecf-c805-4ee3-9da5-2f1d3d2ff329",
   "metadata": {},
   "outputs": [
    {
     "data": {
      "text/plain": [
       "int"
      ]
     },
     "execution_count": 22,
     "metadata": {},
     "output_type": "execute_result"
    }
   ],
   "source": [
    "type(age)"
   ]
  },
  {
   "cell_type": "markdown",
   "id": "9cd11671-72f6-4c4e-a5a9-226e64d5fc39",
   "metadata": {},
   "source": [
    "# Output"
   ]
  },
  {
   "cell_type": "code",
   "execution_count": 25,
   "id": "7ded2ebf-5402-40d6-8143-fca05f349d5b",
   "metadata": {},
   "outputs": [],
   "source": [
    "# the build in method of pyton to output is:- print()"
   ]
  },
  {
   "cell_type": "code",
   "execution_count": 27,
   "id": "22f50856-c004-4af4-808f-cc37144ad764",
   "metadata": {},
   "outputs": [
    {
     "name": "stdout",
     "output_type": "stream",
     "text": [
      "subodh kumar yadav\n"
     ]
    }
   ],
   "source": [
    "print(\"subodh kumar yadav\")"
   ]
  },
  {
   "cell_type": "code",
   "execution_count": 32,
   "id": "7d28ee3f-4532-424b-9689-5e0271fd1ba5",
   "metadata": {},
   "outputs": [
    {
     "name": "stdout",
     "output_type": "stream",
     "text": [
      "my name is: subodh and my age is: 20\n"
     ]
    }
   ],
   "source": [
    "name='subodh'\n",
    "age=20\n",
    "print(\"my name is:\",name ,\"and my age is:\",age)"
   ]
  },
  {
   "cell_type": "markdown",
   "id": "ca7c4492-06bc-47d0-b703-97555b24db99",
   "metadata": {},
   "source": [
    "### sep"
   ]
  },
  {
   "cell_type": "code",
   "execution_count": 35,
   "id": "2f39dc19-2e98-40e1-bb16-4e34b3d3f442",
   "metadata": {},
   "outputs": [
    {
     "name": "stdout",
     "output_type": "stream",
     "text": [
      "3,4,7\n"
     ]
    }
   ],
   "source": [
    "x=3\n",
    "y=4\n",
    "z=7\n",
    "print(x,y,z,sep=\",\")"
   ]
  },
  {
   "cell_type": "markdown",
   "id": "317e3d02-8363-4f5d-b7c4-84c51b9beed5",
   "metadata": {},
   "source": [
    "# end"
   ]
  },
  {
   "cell_type": "code",
   "execution_count": 38,
   "id": "28096c5e-ea80-4adf-9948-53f87eb78dc8",
   "metadata": {},
   "outputs": [
    {
     "name": "stdout",
     "output_type": "stream",
     "text": [
      "my name is subodh  kumar  yadav\n"
     ]
    }
   ],
   "source": [
    "print(\"my name is subodh \",end=\" \")\n",
    "print('kumar ',end=\" \")\n",
    "print(\"yadav\")"
   ]
  },
  {
   "cell_type": "code",
   "execution_count": null,
   "id": "35efd571-030d-4a0e-8471-ec18350cd954",
   "metadata": {},
   "outputs": [],
   "source": []
  }
 ],
 "metadata": {
  "kernelspec": {
   "display_name": "Python 3 (ipykernel)",
   "language": "python",
   "name": "python3"
  },
  "language_info": {
   "codemirror_mode": {
    "name": "ipython",
    "version": 3
   },
   "file_extension": ".py",
   "mimetype": "text/x-python",
   "name": "python",
   "nbconvert_exporter": "python",
   "pygments_lexer": "ipython3",
   "version": "3.12.3"
  }
 },
 "nbformat": 4,
 "nbformat_minor": 5
}
