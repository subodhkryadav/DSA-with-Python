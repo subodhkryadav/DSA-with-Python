{
 "cells": [
  {
   "cell_type": "markdown",
   "id": "ff16b2b8-a02a-4591-9b16-f6f8979f76f4",
   "metadata": {},
   "source": [
    "## DSA with Python_Day_01"
   ]
  },
  {
   "cell_type": "code",
   "execution_count": 27,
   "id": "002c8d06-43b5-40c0-af91-3b83e5805938",
   "metadata": {},
   "outputs": [],
   "source": [
    "# python is a programming language that used to any field to the Technology, python have basic structre and syntex ,learner friendly language."
   ]
  },
  {
   "cell_type": "code",
   "execution_count": 29,
   "id": "bf2ed2c9-5f1e-4d9e-b755-2d7810d99dfc",
   "metadata": {},
   "outputs": [],
   "source": [
    "# first download the python"
   ]
  },
  {
   "cell_type": "code",
   "execution_count": null,
   "id": "a6e3e5da-ba35-4e28-9290-0a8631b7fcd1",
   "metadata": {},
   "outputs": [],
   "source": [
    "# download the ide such as the jupyter notebook vs code ,pycharm etc ,eclipse and google colab "
   ]
  },
  {
   "cell_type": "code",
   "execution_count": 7,
   "id": "3fed7c3e-81c0-4ef5-8882-1b93247a6a6a",
   "metadata": {},
   "outputs": [
    {
     "name": "stdout",
     "output_type": "stream",
     "text": [
      "Hello World!\n"
     ]
    }
   ],
   "source": [
    "print(\"Hello World!\")"
   ]
  },
  {
   "cell_type": "code",
   "execution_count": 13,
   "id": "16215321-1871-47cc-9139-fc27f95f17ff",
   "metadata": {},
   "outputs": [
    {
     "name": "stdout",
     "output_type": "stream",
     "text": [
      "subodh\n"
     ]
    }
   ],
   "source": [
    "print(\"subodh\");"
   ]
  },
  {
   "cell_type": "markdown",
   "id": "6fa0ad5e-b074-406e-9cdb-e57186ea67ae",
   "metadata": {},
   "source": [
    "### About-information"
   ]
  },
  {
   "cell_type": "code",
   "execution_count": 20,
   "id": "2d7ee0ea-08a5-4355-9e63-4f556aeba892",
   "metadata": {},
   "outputs": [
    {
     "name": "stdout",
     "output_type": "stream",
     "text": [
      "Name:-  subodh\n",
      "age:-  20\n",
      "gender:-  Male\n"
     ]
    }
   ],
   "source": [
    "print(\"Name:- \",\"subodh\")\n",
    "print(\"age:- \",20)\n",
    "print(\"gender:- \",'Male')"
   ]
  },
  {
   "cell_type": "code",
   "execution_count": 23,
   "id": "9fcd184e-b43a-40bb-bc0c-d3af139c1822",
   "metadata": {},
   "outputs": [],
   "source": [
    "## python is interpreter programming languge:- that execute the line by line "
   ]
  },
  {
   "cell_type": "code",
   "execution_count": 25,
   "id": "c57833d0-3552-4533-bea9-924b7916184c",
   "metadata": {},
   "outputs": [],
   "source": [
    "## python support the large variety of the library support that use to less the line of code as well know the frature of the library"
   ]
  },
  {
   "cell_type": "code",
   "execution_count": null,
   "id": "228f387c-6e72-49ea-bdd6-71753fffc31b",
   "metadata": {},
   "outputs": [],
   "source": []
  }
 ],
 "metadata": {
  "kernelspec": {
   "display_name": "Python 3 (ipykernel)",
   "language": "python",
   "name": "python3"
  },
  "language_info": {
   "codemirror_mode": {
    "name": "ipython",
    "version": 3
   },
   "file_extension": ".py",
   "mimetype": "text/x-python",
   "name": "python",
   "nbconvert_exporter": "python",
   "pygments_lexer": "ipython3",
   "version": "3.12.3"
  }
 },
 "nbformat": 4,
 "nbformat_minor": 5
}
