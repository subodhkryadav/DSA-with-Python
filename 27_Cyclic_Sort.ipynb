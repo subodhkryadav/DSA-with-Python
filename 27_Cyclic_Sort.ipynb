{
 "cells": [
  {
   "cell_type": "code",
   "execution_count": 14,
   "id": "25648267-b9dd-479d-b4e6-7ee445c353c9",
   "metadata": {},
   "outputs": [],
   "source": [
    "def cyclicSort(array):\n",
    "    n = len(array)\n",
    "    for cycleStart in range(0, n - 1):\n",
    "        item = array[cycleStart]\n",
    "        pos = cycleStart\n",
    "\n",
    "        # Find where to put the item\n",
    "        for i in range(cycleStart + 1, n):\n",
    "            if array[i] < item:\n",
    "                pos += 1\n",
    "\n",
    "        # If item is already in correct position\n",
    "        if pos == cycleStart:\n",
    "            continue\n",
    "\n",
    "        # Skip duplicates\n",
    "        while item == array[pos]:\n",
    "            pos += 1\n",
    "\n",
    "        # Put the item to its correct position\n",
    "        array[pos], item = item, array[pos]\n",
    "\n",
    "        # Rotate the rest of the cycle\n",
    "        while pos != cycleStart:\n",
    "            pos = cycleStart\n",
    "            for i in range(cycleStart + 1, n):\n",
    "                if array[i] < item:\n",
    "                    pos += 1\n",
    "\n",
    "            while item == array[pos]:\n",
    "                pos += 1\n",
    "\n",
    "            array[pos], item = item, array[pos]\n",
    "    return array"
   ]
  },
  {
   "cell_type": "code",
   "execution_count": 18,
   "id": "1c12984f-10e1-4aa0-966c-262646f09af3",
   "metadata": {},
   "outputs": [
    {
     "name": "stdin",
     "output_type": "stream",
     "text": [
      "enter the size of the array:  7\n",
      "Enter the array 1 element:  7\n",
      "Enter the array 2 element:  3\n",
      "Enter the array 3 element:  1\n",
      "Enter the array 4 element:  5\n",
      "Enter the array 5 element:  4\n",
      "Enter the array 6 element:  4\n",
      "Enter the array 7 element:  3\n"
     ]
    },
    {
     "name": "stdout",
     "output_type": "stream",
     "text": [
      " Input array:  [7, 3, 1, 5, 4, 4, 3]\n",
      "output array:  [1, 3, 3, 4, 4, 5, 7]\n"
     ]
    }
   ],
   "source": [
    "arr=[]\n",
    "n=int(input(\"enter the size of the array: \"))\n",
    "for i in range(n):\n",
    "    element=int(input(f\"Enter the array {i+1} element: \"))\n",
    "    arr.append(element)\n",
    "print(\" Input array: \",arr)\n",
    "print(\"output array: \",cyclicSort(arr))"
   ]
  },
  {
   "cell_type": "code",
   "execution_count": 20,
   "id": "41f7151c-700a-4c2c-80aa-525da8d220a4",
   "metadata": {},
   "outputs": [
    {
     "name": "stdin",
     "output_type": "stream",
     "text": [
      "enter the size of the array:  6\n",
      "Enter the array 1 element:  1\n",
      "Enter the array 2 element:  9\n",
      "Enter the array 3 element:  2\n",
      "Enter the array 4 element:  7\n",
      "Enter the array 5 element:  8\n",
      "Enter the array 6 element:  0\n"
     ]
    },
    {
     "name": "stdout",
     "output_type": "stream",
     "text": [
      " Input array:  [1, 9, 2, 7, 8, 0]\n",
      "output array:  [0, 1, 2, 7, 8, 9]\n"
     ]
    }
   ],
   "source": [
    "arr=[]\n",
    "n=int(input(\"enter the size of the array: \"))\n",
    "for i in range(n):\n",
    "    element=int(input(f\"Enter the array {i+1} element: \"))\n",
    "    arr.append(element)\n",
    "print(\" Input array: \",arr)\n",
    "print(\"output array: \",cyclicSort(arr))"
   ]
  },
  {
   "cell_type": "code",
   "execution_count": 22,
   "id": "31c145e0-2b72-4041-99ae-718a1270dc08",
   "metadata": {},
   "outputs": [],
   "source": [
    "#time complexity of the cycle sort is O(n^2)"
   ]
  },
  {
   "cell_type": "code",
   "execution_count": null,
   "id": "4e83443b-ba9d-4e26-8e0d-199abd0edb49",
   "metadata": {},
   "outputs": [],
   "source": []
  }
 ],
 "metadata": {
  "kernelspec": {
   "display_name": "Python 3 (ipykernel)",
   "language": "python",
   "name": "python3"
  },
  "language_info": {
   "codemirror_mode": {
    "name": "ipython",
    "version": 3
   },
   "file_extension": ".py",
   "mimetype": "text/x-python",
   "name": "python",
   "nbconvert_exporter": "python",
   "pygments_lexer": "ipython3",
   "version": "3.12.3"
  }
 },
 "nbformat": 4,
 "nbformat_minor": 5
}
