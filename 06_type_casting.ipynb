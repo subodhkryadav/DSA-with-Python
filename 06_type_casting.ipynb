{
 "cells": [
  {
   "cell_type": "markdown",
   "id": "573e8437-fc73-41d3-a06d-c6b89e370d10",
   "metadata": {},
   "source": [
    "## Type casting"
   ]
  },
  {
   "cell_type": "markdown",
   "id": "23a5fa09-3073-4d4b-9f20-878037cfbb18",
   "metadata": {},
   "source": [
    "#### 1.implicit\n",
    "#### 2.explicit"
   ]
  },
  {
   "cell_type": "code",
   "execution_count": 4,
   "id": "ce564c2e-aaae-49cd-a1e4-56f7982b0e4e",
   "metadata": {},
   "outputs": [
    {
     "name": "stdout",
     "output_type": "stream",
     "text": [
      "11.5\n"
     ]
    }
   ],
   "source": [
    "#1. implicit:- the interpriter change the one data type to the another data type\n",
    "x=5\n",
    "y=6.5\n",
    "result=x+y\n",
    "print(result)\n"
   ]
  },
  {
   "cell_type": "code",
   "execution_count": 8,
   "id": "3e9539fd-e3b6-4a7f-be34-98c96e239a42",
   "metadata": {},
   "outputs": [
    {
     "name": "stdout",
     "output_type": "stream",
     "text": [
      "<class 'str'>\n",
      "10\n"
     ]
    },
    {
     "data": {
      "text/plain": [
       "int"
      ]
     },
     "execution_count": 8,
     "metadata": {},
     "output_type": "execute_result"
    }
   ],
   "source": [
    "# 2. explicit:- change the developer the one data type to the another datatype\n",
    "a='10'\n",
    "print(type(a))\n",
    "new_a=int(a)\n",
    "print(new_a)\n",
    "type(new_a)"
   ]
  },
  {
   "cell_type": "code",
   "execution_count": null,
   "id": "d673a747-11ab-41e3-81e2-647043cd2a5d",
   "metadata": {},
   "outputs": [],
   "source": []
  }
 ],
 "metadata": {
  "kernelspec": {
   "display_name": "Python 3 (ipykernel)",
   "language": "python",
   "name": "python3"
  },
  "language_info": {
   "codemirror_mode": {
    "name": "ipython",
    "version": 3
   },
   "file_extension": ".py",
   "mimetype": "text/x-python",
   "name": "python",
   "nbconvert_exporter": "python",
   "pygments_lexer": "ipython3",
   "version": "3.12.3"
  }
 },
 "nbformat": 4,
 "nbformat_minor": 5
}
