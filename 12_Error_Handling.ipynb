{
 "cells": [
  {
   "cell_type": "markdown",
   "id": "de5aa810-be9d-4150-bba7-20f081c6f462",
   "metadata": {},
   "source": [
    "# Error Handling"
   ]
  },
  {
   "cell_type": "code",
   "execution_count": 4,
   "id": "dfcac61b-a93d-43da-8d38-3684f6a84ae3",
   "metadata": {},
   "outputs": [
    {
     "ename": "NameError",
     "evalue": "name 'o' is not defined",
     "output_type": "error",
     "traceback": [
      "\u001b[1;31m---------------------------------------------------------------------------\u001b[0m",
      "\u001b[1;31mNameError\u001b[0m                                 Traceback (most recent call last)",
      "Cell \u001b[1;32mIn[4], line 3\u001b[0m\n\u001b[0;32m      1\u001b[0m \u001b[38;5;28mstr\u001b[39m\u001b[38;5;241m=\u001b[39m\u001b[38;5;124m\"\u001b[39m\u001b[38;5;124msubodh kumar yadav\u001b[39m\u001b[38;5;124m\"\u001b[39m\n\u001b[0;32m      2\u001b[0m \u001b[38;5;28;01mfor\u001b[39;00m s \u001b[38;5;129;01min\u001b[39;00m \u001b[38;5;28mstr\u001b[39m:\n\u001b[1;32m----> 3\u001b[0m     \u001b[38;5;28;01mif\u001b[39;00m s\u001b[38;5;241m!=\u001b[39m\u001b[43mo\u001b[49m:\n\u001b[0;32m      4\u001b[0m         \u001b[38;5;28mprint\u001b[39m(s)   \u001b[38;5;66;03m#Exceptoion occur\u001b[39;00m\n",
      "\u001b[1;31mNameError\u001b[0m: name 'o' is not defined"
     ]
    }
   ],
   "source": [
    "str=\"subodh kumar yadav\"\n",
    "for s in str:\n",
    "    if s!=o:\n",
    "        print(s)   #Exceptoion occur"
   ]
  },
  {
   "cell_type": "code",
   "execution_count": 10,
   "id": "5b7c6616-8b0f-4bd4-af3a-1cb102e575e4",
   "metadata": {},
   "outputs": [
    {
     "ename": "SyntaxError",
     "evalue": "invalid syntax (237878768.py, line 2)",
     "output_type": "error",
     "traceback": [
      "\u001b[1;36m  Cell \u001b[1;32mIn[10], line 2\u001b[1;36m\u001b[0m\n\u001b[1;33m    if (s!=o:\u001b[0m\n\u001b[1;37m            ^\u001b[0m\n\u001b[1;31mSyntaxError\u001b[0m\u001b[1;31m:\u001b[0m invalid syntax\n"
     ]
    }
   ],
   "source": [
    "for s in str:\n",
    "    if (s!=o:\n",
    "        print(s)    #syntex error occur"
   ]
  },
  {
   "cell_type": "code",
   "execution_count": 12,
   "id": "5645dad8-1264-4b3f-8bdd-ede6bb15ba1f",
   "metadata": {},
   "outputs": [
    {
     "name": "stdout",
     "output_type": "stream",
     "text": [
      "exception handled\n",
      "this line to the manadatory exectuted\n"
     ]
    }
   ],
   "source": [
    "arr=[\"mango\",\"banana\",\"apple\",\"orange\"]\n",
    "try:\n",
    "    for i in arr:\n",
    "        print(arr[i])\n",
    "except:\n",
    "    print(\"exception handled\")\n",
    "print(\"this line to the manadatory exectuted\")"
   ]
  },
  {
   "cell_type": "code",
   "execution_count": 18,
   "id": "7333cd74-4e7e-4eb6-981f-6d4e8c2ea39f",
   "metadata": {},
   "outputs": [
    {
     "ename": "Exception",
     "evalue": "length of the given list 3 which is <4",
     "output_type": "error",
     "traceback": [
      "\u001b[1;31m---------------------------------------------------------------------------\u001b[0m",
      "\u001b[1;31mException\u001b[0m                                 Traceback (most recent call last)",
      "Cell \u001b[1;32mIn[18], line 3\u001b[0m\n\u001b[0;32m      1\u001b[0m arr\u001b[38;5;241m=\u001b[39m[\u001b[38;5;241m1\u001b[39m,\u001b[38;5;241m2\u001b[39m,\u001b[38;5;241m3\u001b[39m]\n\u001b[0;32m      2\u001b[0m \u001b[38;5;28;01mif\u001b[39;00m \u001b[38;5;28mlen\u001b[39m(arr)\u001b[38;5;241m<\u001b[39m\u001b[38;5;241m4\u001b[39m:\n\u001b[1;32m----> 3\u001b[0m     \u001b[38;5;28;01mraise\u001b[39;00m \u001b[38;5;167;01mException\u001b[39;00m(\u001b[38;5;124mf\u001b[39m\u001b[38;5;124m\"\u001b[39m\u001b[38;5;124mlength of the given list \u001b[39m\u001b[38;5;132;01m{\u001b[39;00m\u001b[38;5;28mlen\u001b[39m(arr)\u001b[38;5;132;01m}\u001b[39;00m\u001b[38;5;124m which is <4\u001b[39m\u001b[38;5;124m\"\u001b[39m)\n",
      "\u001b[1;31mException\u001b[0m: length of the given list 3 which is <4"
     ]
    }
   ],
   "source": [
    "arr=[1,2,3]\n",
    "if len(arr)<4:\n",
    "    raise Exception(f\"length of the given list {len(arr)} which is <4\")"
   ]
  },
  {
   "cell_type": "code",
   "execution_count": 26,
   "id": "d49fa3e8-db18-4656-850a-318a6a6718d8",
   "metadata": {},
   "outputs": [
    {
     "name": "stdout",
     "output_type": "stream",
     "text": [
      "2.0\n",
      "Please give a valid positive number\n",
      "Error: Pass a positive number\n",
      "Last line of the code\n"
     ]
    }
   ],
   "source": [
    "def cube_root(num):\n",
    "    # Check if number is positive\n",
    "    assert num >= 0, \"Pass a positive number\"\n",
    "    return num ** (1/3)\n",
    "\n",
    "# Test with a valid input\n",
    "print(cube_root(8))\n",
    "\n",
    "# Test with an invalid input\n",
    "try:\n",
    "    val = cube_root(-8)\n",
    "    print(val)\n",
    "except AssertionError as e:\n",
    "    print(\"Please give a valid positive number\")\n",
    "    print(\"Error:\", e)\n",
    "\n",
    "print(\"Last line of the code\")"
   ]
  },
  {
   "cell_type": "code",
   "execution_count": 32,
   "id": "ba6a8c23-4684-472a-b95f-0e925ed60e0a",
   "metadata": {},
   "outputs": [
    {
     "name": "stdout",
     "output_type": "stream",
     "text": [
      "can't divide by zero\n",
      "5.0\n"
     ]
    }
   ],
   "source": [
    "def operate(num):\n",
    "    try:\n",
    "        result=5/num\n",
    "    except ZeroDivisionError:\n",
    "        print(\"can't divide by zero\")\n",
    "    else:\n",
    "        print(result)\n",
    "operate(0)\n",
    "operate(1)"
   ]
  },
  {
   "cell_type": "code",
   "execution_count": 34,
   "id": "7323e6f7-d700-471a-b0a5-ef10eff6c4a3",
   "metadata": {},
   "outputs": [
    {
     "name": "stdout",
     "output_type": "stream",
     "text": [
      "can't divide by zero\n",
      " this portion always be executed\n",
      " this portion always be executed\n"
     ]
    }
   ],
   "source": [
    "def operate(num):\n",
    "    try:\n",
    "        result=5/num\n",
    "    except ZeroDivisionError:\n",
    "        print(\"can't divide by zero\")\n",
    "    finally:\n",
    "        print(\" this portion always be executed\")\n",
    "operate(0)\n",
    "operate(1)"
   ]
  },
  {
   "cell_type": "markdown",
   "id": "b725e857-ebb4-4452-9c13-16274c2ac9f7",
   "metadata": {},
   "source": [
    "##### custom Exception"
   ]
  },
  {
   "cell_type": "code",
   "execution_count": 39,
   "id": "34b6fc46-7e5d-449a-82cf-b7c77f8a72b2",
   "metadata": {},
   "outputs": [
    {
     "name": "stdout",
     "output_type": "stream",
     "text": [
      "this variable is an empty string\n"
     ]
    }
   ],
   "source": [
    "class EmptyException(RuntimeError):\n",
    "    def __init__(self,arguments):\n",
    "        self.arguments=arguments\n",
    "var=\"\"\n",
    "try:\n",
    "    raise EmptyException(\"this variable is an empty string\")\n",
    "except EmptyException as e:\n",
    "    print(e.arguments)"
   ]
  },
  {
   "cell_type": "code",
   "execution_count": null,
   "id": "868168fe-96aa-432f-ae01-6b3fa6368f11",
   "metadata": {},
   "outputs": [],
   "source": []
  }
 ],
 "metadata": {
  "kernelspec": {
   "display_name": "Python 3 (ipykernel)",
   "language": "python",
   "name": "python3"
  },
  "language_info": {
   "codemirror_mode": {
    "name": "ipython",
    "version": 3
   },
   "file_extension": ".py",
   "mimetype": "text/x-python",
   "name": "python",
   "nbconvert_exporter": "python",
   "pygments_lexer": "ipython3",
   "version": "3.12.3"
  }
 },
 "nbformat": 4,
 "nbformat_minor": 5
}
