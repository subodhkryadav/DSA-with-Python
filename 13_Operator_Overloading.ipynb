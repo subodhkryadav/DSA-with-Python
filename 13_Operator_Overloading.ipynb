{
 "cells": [
  {
   "cell_type": "code",
   "execution_count": 3,
   "id": "69f22cf0-f762-4713-84c2-37be78123af0",
   "metadata": {},
   "outputs": [
    {
     "name": "stdout",
     "output_type": "stream",
     "text": [
      "6\n"
     ]
    }
   ],
   "source": [
    "class Num:\n",
    "    def __init__(self,num):\n",
    "        self.num=num\n",
    "    def __add__(self,U):\n",
    "        return self.num+U.num\n",
    "num1=Num(1)\n",
    "num2=Num(5)\n",
    "res=num1+num2\n",
    "print(res)"
   ]
  },
  {
   "cell_type": "code",
   "execution_count": 11,
   "id": "8c11d98e-0615-4306-ab4b-a5a3d97c93f8",
   "metadata": {},
   "outputs": [
    {
     "name": "stdout",
     "output_type": "stream",
     "text": [
      "(5, 10)\n"
     ]
    }
   ],
   "source": [
    "class complexNum:\n",
    "    def __init__(self,x,y):\n",
    "        self.x=x\n",
    "        self.y=y\n",
    "    def __add__(self,c):\n",
    "        return self.x+c.x, self.y+c.y\n",
    "c1=complexNum(2,5)\n",
    "c2=complexNum(3,5)\n",
    "print(c1+c2)"
   ]
  },
  {
   "cell_type": "code",
   "execution_count": 23,
   "id": "9a2f981b-e1ea-4e0f-b79d-37f821fbc03b",
   "metadata": {},
   "outputs": [
    {
     "name": "stdout",
     "output_type": "stream",
     "text": [
      "False\n"
     ]
    }
   ],
   "source": [
    "class ComparisonOverload:\n",
    "    def __init__(self, x):\n",
    "        self.x = x\n",
    "\n",
    "    def __gt__(self, other):\n",
    "        return self.x > other.x\n",
    "\n",
    "# Creating instances\n",
    "num1 = ComparisonOverload(4)\n",
    "num2 = ComparisonOverload(5)\n",
    "\n",
    "# Comparing\n",
    "print(num1 > num2)  # Output: False"
   ]
  },
  {
   "cell_type": "code",
   "execution_count": null,
   "id": "dc1d3354-2b85-484c-8de1-0835fad40d05",
   "metadata": {},
   "outputs": [],
   "source": []
  }
 ],
 "metadata": {
  "kernelspec": {
   "display_name": "Python 3 (ipykernel)",
   "language": "python",
   "name": "python3"
  },
  "language_info": {
   "codemirror_mode": {
    "name": "ipython",
    "version": 3
   },
   "file_extension": ".py",
   "mimetype": "text/x-python",
   "name": "python",
   "nbconvert_exporter": "python",
   "pygments_lexer": "ipython3",
   "version": "3.12.3"
  }
 },
 "nbformat": 4,
 "nbformat_minor": 5
}
