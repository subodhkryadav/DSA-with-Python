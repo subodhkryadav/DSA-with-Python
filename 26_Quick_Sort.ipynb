{
 "cells": [
  {
   "cell_type": "code",
   "execution_count": 1,
   "id": "c13ebebf-f48c-4392-803e-639d47e80479",
   "metadata": {},
   "outputs": [],
   "source": [
    "## quick sort "
   ]
  },
  {
   "cell_type": "code",
   "execution_count": 11,
   "id": "94cd678e-3ed7-4573-9653-c2c39fd32261",
   "metadata": {},
   "outputs": [
    {
     "name": "stdin",
     "output_type": "stream",
     "text": [
      "Enter the size of the array:  5\n",
      "Enter the array 1 element:  1\n",
      "Enter the array 2 element:  5\n",
      "Enter the array 3 element:  2\n",
      "Enter the array 4 element:  6\n",
      "Enter the array 5 element:  4\n"
     ]
    },
    {
     "name": "stdout",
     "output_type": "stream",
     "text": [
      "input array:  [1, 5, 2, 6, 4]\n",
      "Sorted array:  [1, 2, 4, 5, 6]\n"
     ]
    }
   ],
   "source": [
    "def Quick_sort(arr):\n",
    "    if len(arr)<=1:\n",
    "        return arr\n",
    "    else:\n",
    "        pivot=arr[len(arr)//2]   #we chose the middle element of the array as the pivot element\n",
    "        left=[x for x in arr if x<pivot]\n",
    "        middle=[x for x in arr if x==pivot]\n",
    "        right=[x for x in arr if x>pivot]\n",
    "        return Quick_sort(left)+middle+Quick_sort(right)\n",
    "\n",
    "arr=[]\n",
    "n=int(input(\"Enter the size of the array: \"))\n",
    "for i in range(n):\n",
    "    element=int(input(f\"Enter the array {i+1} element: \"))\n",
    "    arr.append(element)\n",
    "print(\"input array: \",arr)\n",
    "print(\"Sorted array: \",Quick_sort(arr))"
   ]
  },
  {
   "cell_type": "code",
   "execution_count": 13,
   "id": "a14d4369-12eb-4df3-88b0-a63c305ef064",
   "metadata": {},
   "outputs": [],
   "source": [
    "# another approach to sort the array using the quich sort|"
   ]
  },
  {
   "cell_type": "code",
   "execution_count": 21,
   "id": "b1400c49-77ab-4b9f-b459-c28f4cbcefe2",
   "metadata": {},
   "outputs": [
    {
     "name": "stdin",
     "output_type": "stream",
     "text": [
      "Enter the size of the array:  6\n",
      "Enter the array 1 element:  1\n",
      "Enter the array 2 element:  0\n",
      "Enter the array 3 element:  2\n",
      "Enter the array 4 element:  4\n",
      "Enter the array 5 element:  -9\n",
      "Enter the array 6 element:  5\n"
     ]
    },
    {
     "name": "stdout",
     "output_type": "stream",
     "text": [
      " input array:  [1, 0, 2, 4, -9, 5]\n",
      "sorted array:  [-9, 0, 1, 2, 4, 5]\n"
     ]
    }
   ],
   "source": [
    "def quick_sort(arr,low,high):\n",
    "    if low<high:\n",
    "        pivot=partition(arr,low,high)\n",
    "        quick_sort(arr,low,pivot-1)\n",
    "        quick_sort(arr,pivot+1,high)\n",
    "    return arr\n",
    "def partition(arr,low,high):\n",
    "    p=arr[low]\n",
    "    i=low+1\n",
    "    j=high\n",
    "    while True:\n",
    "        while i<=j and arr[i]<=p:\n",
    "            i+=1\n",
    "        while i<=j and arr[j]>=p:\n",
    "            j-=1\n",
    "        if i<=j:\n",
    "            arr[i],arr[j]=arr[j],arr[i]\n",
    "        else:\n",
    "            break\n",
    "    arr[low],arr[j]=arr[j],arr[low]\n",
    "    return j\n",
    "\n",
    "\n",
    "arr=[]\n",
    "n=int(input(\"Enter the size of the array: \"))\n",
    "for i in range(n):\n",
    "    element=int(input(f\"Enter the array {i+1} element: \"))\n",
    "    arr.append(element)\n",
    "print(\" input array: \",arr)\n",
    "print(\"sorted array: \",quick_sort(arr,0,n-1))"
   ]
  },
  {
   "cell_type": "code",
   "execution_count": null,
   "id": "b21277d9-ee0d-4fe3-af60-6c305b0847d7",
   "metadata": {},
   "outputs": [],
   "source": []
  }
 ],
 "metadata": {
  "kernelspec": {
   "display_name": "Python 3 (ipykernel)",
   "language": "python",
   "name": "python3"
  },
  "language_info": {
   "codemirror_mode": {
    "name": "ipython",
    "version": 3
   },
   "file_extension": ".py",
   "mimetype": "text/x-python",
   "name": "python",
   "nbconvert_exporter": "python",
   "pygments_lexer": "ipython3",
   "version": "3.12.3"
  }
 },
 "nbformat": 4,
 "nbformat_minor": 5
}
