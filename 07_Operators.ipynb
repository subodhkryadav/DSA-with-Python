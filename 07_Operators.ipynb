{
 "cells": [
  {
   "cell_type": "markdown",
   "id": "0879262e-aa49-41fd-958e-e0fca5a04f2f",
   "metadata": {},
   "source": [
    "## Operators"
   ]
  },
  {
   "cell_type": "code",
   "execution_count": 4,
   "id": "b0d814f0-e075-448e-aef0-6ab38f9ba05d",
   "metadata": {},
   "outputs": [
    {
     "data": {
      "text/plain": [
       "7"
      ]
     },
     "execution_count": 4,
     "metadata": {},
     "output_type": "execute_result"
    }
   ],
   "source": [
    "3+4  # 3 and 4 is the operands, \"+\" is the operator, and all of the called operation"
   ]
  },
  {
   "cell_type": "markdown",
   "id": "724fd72b-1899-44bd-99e2-8a5a116a5633",
   "metadata": {},
   "source": [
    "# 1. Arithmetic operator"
   ]
  },
  {
   "cell_type": "code",
   "execution_count": 7,
   "id": "a3e4af9e-14a9-4e4f-85ac-5c1c1c8401aa",
   "metadata": {},
   "outputs": [
    {
     "name": "stdout",
     "output_type": "stream",
     "text": [
      "30\n",
      "10\n",
      "100\n",
      "2.0\n",
      "7\n",
      "2\n",
      "4\n"
     ]
    }
   ],
   "source": [
    "num1=10\n",
    "num2=20\n",
    "print(num1+num2)\n",
    "print(num2-num1)\n",
    "print(num1*num1)\n",
    "print(num2/num1)\n",
    "print(23//3)\n",
    "print(23%3)\n",
    "print(2**2)"
   ]
  },
  {
   "cell_type": "markdown",
   "id": "75422d81-71d4-4468-8cab-4fc52a4889be",
   "metadata": {},
   "source": [
    "## comparision operator"
   ]
  },
  {
   "cell_type": "code",
   "execution_count": 10,
   "id": "6138dd62-adac-41e6-9345-f60560371011",
   "metadata": {},
   "outputs": [
    {
     "name": "stdout",
     "output_type": "stream",
     "text": [
      "False\n",
      "True\n",
      "True\n",
      "False\n",
      "True\n",
      "True\n"
     ]
    }
   ],
   "source": [
    "num1=10\n",
    "num2=20\n",
    "print(num1==num2)\n",
    "print(num1 !=num2)\n",
    "print(num1<num2)\n",
    "print(num1>num2)\n",
    "print(num1<=num2)\n",
    "print(num1>=num1)"
   ]
  },
  {
   "cell_type": "markdown",
   "id": "0da2fd89-86da-47e4-af95-cd4a99b9cdc3",
   "metadata": {},
   "source": [
    "### 3. Assignment operator"
   ]
  },
  {
   "cell_type": "code",
   "execution_count": 15,
   "id": "297ac1b0-7145-4941-9152-ac7307f0747c",
   "metadata": {},
   "outputs": [
    {
     "name": "stdout",
     "output_type": "stream",
     "text": [
      "subodh\n",
      "5\n",
      "10\n",
      "15\n"
     ]
    }
   ],
   "source": [
    "name=\"subodh\"\n",
    "print(name)\n",
    "x=5\n",
    "print(x)\n",
    "x=x+5\n",
    "print(x)\n",
    "x+=5\n",
    "print(x)"
   ]
  },
  {
   "cell_type": "markdown",
   "id": "7b4e04d9-23d8-4369-9c64-9d6b441cc2f4",
   "metadata": {},
   "source": [
    "### 4.Logical operators"
   ]
  },
  {
   "cell_type": "code",
   "execution_count": 22,
   "id": "04574007-64c4-4a7f-86b3-2ee346dbd179",
   "metadata": {},
   "outputs": [
    {
     "name": "stdout",
     "output_type": "stream",
     "text": [
      "True\n"
     ]
    }
   ],
   "source": [
    "print(True and True)"
   ]
  },
  {
   "cell_type": "code",
   "execution_count": 26,
   "id": "5652a020-c63e-453f-a203-e3f700206fb0",
   "metadata": {},
   "outputs": [
    {
     "name": "stdout",
     "output_type": "stream",
     "text": [
      "False\n"
     ]
    }
   ],
   "source": [
    "print(False and True)"
   ]
  },
  {
   "cell_type": "code",
   "execution_count": 28,
   "id": "1a84f669-ab15-41a1-be87-7fb4d0051d31",
   "metadata": {},
   "outputs": [
    {
     "name": "stdout",
     "output_type": "stream",
     "text": [
      "True\n"
     ]
    }
   ],
   "source": [
    "print(True ^ False)"
   ]
  },
  {
   "cell_type": "markdown",
   "id": "b2ce69ef-1f29-4c26-be33-6bf7edc9d44e",
   "metadata": {},
   "source": [
    "### 5. Bitwise operator"
   ]
  },
  {
   "cell_type": "code",
   "execution_count": 33,
   "id": "79e21da1-fb78-4c8b-838e-a66d602cdce4",
   "metadata": {},
   "outputs": [
    {
     "name": "stdout",
     "output_type": "stream",
     "text": [
      "1\n"
     ]
    }
   ],
   "source": [
    "num1=5\n",
    "num2=3\n",
    "print(num1 & num2)  # first convert to binary then calculate"
   ]
  },
  {
   "cell_type": "code",
   "execution_count": 35,
   "id": "03ea6e9f-513b-4083-9995-1f3cb65a5e4a",
   "metadata": {},
   "outputs": [
    {
     "name": "stdout",
     "output_type": "stream",
     "text": [
      "1.1102230246251565e-16\n"
     ]
    }
   ],
   "source": [
    "print(0.9 -0.3*3)"
   ]
  },
  {
   "cell_type": "markdown",
   "id": "2aab9d59-ec66-4068-8ce8-cf18b2ab95c6",
   "metadata": {},
   "source": [
    "### unary operator"
   ]
  },
  {
   "cell_type": "code",
   "execution_count": 38,
   "id": "9b1a8954-c4d7-4975-a1f4-452b9cfb7a9e",
   "metadata": {},
   "outputs": [
    {
     "name": "stdout",
     "output_type": "stream",
     "text": [
      "10\n"
     ]
    }
   ],
   "source": [
    "print(5<<1)"
   ]
  },
  {
   "cell_type": "code",
   "execution_count": 40,
   "id": "3191a294-290c-45c5-bed1-5ce8e9ec7016",
   "metadata": {},
   "outputs": [
    {
     "name": "stdout",
     "output_type": "stream",
     "text": [
      "28\n"
     ]
    }
   ],
   "source": [
    "print(14<<1)"
   ]
  },
  {
   "cell_type": "code",
   "execution_count": 42,
   "id": "5e5bd4e3-a37f-4a7f-9be4-a2d56a874d33",
   "metadata": {},
   "outputs": [
    {
     "name": "stdout",
     "output_type": "stream",
     "text": [
      "7\n"
     ]
    }
   ],
   "source": [
    "print(14>>1)"
   ]
  },
  {
   "cell_type": "code",
   "execution_count": 44,
   "id": "3cab2cb3-d8af-4a38-89b7-37f9f1ecd42c",
   "metadata": {},
   "outputs": [
    {
     "name": "stdout",
     "output_type": "stream",
     "text": [
      "2\n"
     ]
    }
   ],
   "source": [
    "print(5>>1)"
   ]
  },
  {
   "cell_type": "markdown",
   "id": "40670ecf-8e6a-4d60-af92-d379f4f39174",
   "metadata": {},
   "source": [
    "### Identity operator"
   ]
  },
  {
   "cell_type": "code",
   "execution_count": 47,
   "id": "1cc5a0e1-383d-445f-b1a8-f38f49958f9d",
   "metadata": {},
   "outputs": [
    {
     "name": "stdout",
     "output_type": "stream",
     "text": [
      "True\n"
     ]
    }
   ],
   "source": [
    "x=5\n",
    "y=5\n",
    "print(x is y)"
   ]
  },
  {
   "cell_type": "code",
   "execution_count": 49,
   "id": "9d44705c-ecc7-4fd6-88c7-a147595d0a32",
   "metadata": {},
   "outputs": [
    {
     "name": "stdout",
     "output_type": "stream",
     "text": [
      "False\n"
     ]
    }
   ],
   "source": [
    "arr=[3,4,5]\n",
    "arr1=[3,4,5]\n",
    "print(arr is arr1)"
   ]
  },
  {
   "cell_type": "code",
   "execution_count": 51,
   "id": "5df74e3e-dfed-4d2f-acc5-e83e59c8e24c",
   "metadata": {},
   "outputs": [
    {
     "name": "stdout",
     "output_type": "stream",
     "text": [
      "False\n",
      "True\n"
     ]
    }
   ],
   "source": [
    "print(arr is arr1)\n",
    "print(arr is not arr1)"
   ]
  },
  {
   "cell_type": "markdown",
   "id": "a343f74b-7f33-4b38-bcf1-124eff939043",
   "metadata": {},
   "source": [
    "### Membership operator"
   ]
  },
  {
   "cell_type": "code",
   "execution_count": 54,
   "id": "5e92fadc-3261-4688-9030-42d7963453e0",
   "metadata": {},
   "outputs": [
    {
     "name": "stdout",
     "output_type": "stream",
     "text": [
      "True\n"
     ]
    }
   ],
   "source": [
    "my_list=[1,2,3,4,5]\n",
    "print(5 in my_list)"
   ]
  },
  {
   "cell_type": "code",
   "execution_count": 56,
   "id": "87bc67a0-6a88-451d-b0b8-2d1e9efe4052",
   "metadata": {},
   "outputs": [
    {
     "name": "stdout",
     "output_type": "stream",
     "text": [
      "False\n"
     ]
    }
   ],
   "source": [
    "print(0 in my_list)"
   ]
  },
  {
   "cell_type": "code",
   "execution_count": null,
   "id": "1e87766e-520f-4045-8dfc-68531a7591fe",
   "metadata": {},
   "outputs": [],
   "source": []
  }
 ],
 "metadata": {
  "kernelspec": {
   "display_name": "Python 3 (ipykernel)",
   "language": "python",
   "name": "python3"
  },
  "language_info": {
   "codemirror_mode": {
    "name": "ipython",
    "version": 3
   },
   "file_extension": ".py",
   "mimetype": "text/x-python",
   "name": "python",
   "nbconvert_exporter": "python",
   "pygments_lexer": "ipython3",
   "version": "3.12.3"
  }
 },
 "nbformat": 4,
 "nbformat_minor": 5
}
