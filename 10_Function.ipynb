{
 "cells": [
  {
   "cell_type": "markdown",
   "id": "1e0ca921-0b93-4879-a65f-f82831cc25ef",
   "metadata": {},
   "source": [
    "## Function"
   ]
  },
  {
   "cell_type": "markdown",
   "id": "eca15943-057a-4a53-9b6f-6e0a906b130c",
   "metadata": {},
   "source": [
    "### function is a block of code which can be resuaged and recalla"
   ]
  },
  {
   "cell_type": "code",
   "execution_count": 3,
   "id": "c2eb216d-29bf-45e9-8b67-333254021885",
   "metadata": {},
   "outputs": [],
   "source": [
    "def first_function():\n",
    "    print(\"subodh\")"
   ]
  },
  {
   "cell_type": "code",
   "execution_count": 5,
   "id": "e93dc995-02fe-4b28-8595-72920807aa26",
   "metadata": {},
   "outputs": [
    {
     "name": "stdout",
     "output_type": "stream",
     "text": [
      "subodh\n"
     ]
    }
   ],
   "source": [
    "first_function()"
   ]
  },
  {
   "cell_type": "code",
   "execution_count": 7,
   "id": "f2c45bd4-416a-49bf-baaa-a0be71fe55b1",
   "metadata": {},
   "outputs": [
    {
     "name": "stdout",
     "output_type": "stream",
     "text": [
      "subodh\n"
     ]
    }
   ],
   "source": [
    "first_function()"
   ]
  },
  {
   "cell_type": "code",
   "execution_count": 9,
   "id": "5d6aced7-35cb-4cbf-8f3d-5551e63d8ba2",
   "metadata": {},
   "outputs": [],
   "source": [
    "## Add"
   ]
  },
  {
   "cell_type": "code",
   "execution_count": 11,
   "id": "f83def14-c9e3-470e-ae45-c254b36cbb2d",
   "metadata": {},
   "outputs": [],
   "source": [
    "def add(a,b):\n",
    "    sum=a+b\n",
    "    return sum\n"
   ]
  },
  {
   "cell_type": "code",
   "execution_count": 17,
   "id": "e8d23dc9-9a52-478b-b89a-dc5d22fbce53",
   "metadata": {},
   "outputs": [
    {
     "data": {
      "text/plain": [
       "5"
      ]
     },
     "execution_count": 17,
     "metadata": {},
     "output_type": "execute_result"
    }
   ],
   "source": [
    "add(2,3)   # pass the a and b values"
   ]
  },
  {
   "cell_type": "code",
   "execution_count": 19,
   "id": "539b1f3d-d9e0-494a-9eae-6057ca01045f",
   "metadata": {},
   "outputs": [
    {
     "data": {
      "text/plain": [
       "66"
      ]
     },
     "execution_count": 19,
     "metadata": {},
     "output_type": "execute_result"
    }
   ],
   "source": [
    "add(33,33)"
   ]
  },
  {
   "cell_type": "markdown",
   "id": "edc4b535-1836-4136-a2f9-ef90f164b930",
   "metadata": {},
   "source": [
    "# Default arguments"
   ]
  },
  {
   "cell_type": "code",
   "execution_count": 26,
   "id": "88e1447a-9a7c-43b8-971c-f8f28254d314",
   "metadata": {},
   "outputs": [
    {
     "name": "stdout",
     "output_type": "stream",
     "text": [
      "subodh good maorning\n"
     ]
    }
   ],
   "source": [
    "def greet(name,meggage=\"good maorning\"):\n",
    "    print(name,meggage)\n",
    "greet(\"subodh\")"
   ]
  },
  {
   "cell_type": "markdown",
   "id": "cd3d8531-b7e2-4f92-a3a9-ed60628aca74",
   "metadata": {},
   "source": [
    "### keyword arguments"
   ]
  },
  {
   "cell_type": "code",
   "execution_count": 31,
   "id": "1c5a606a-7565-40d8-bf95-6cd4c6728246",
   "metadata": {},
   "outputs": [
    {
     "name": "stdout",
     "output_type": "stream",
     "text": [
      "Hello subodh your age is  19\n"
     ]
    }
   ],
   "source": [
    "def argument(name,age,message):\n",
    "    print(message,name,\"your age is \",age)\n",
    "argument(name=\"subodh\",age=19,message=\"Hello\")"
   ]
  },
  {
   "cell_type": "markdown",
   "id": "320f5961-2210-4146-8c2f-f3aee8df7cc6",
   "metadata": {},
   "source": [
    "####  n element of parameters:- *Args "
   ]
  },
  {
   "cell_type": "code",
   "execution_count": 36,
   "id": "2deccb77-a42d-4b78-9eec-fda0e18acf0f",
   "metadata": {},
   "outputs": [],
   "source": [
    "def add(*args):\n",
    "    sum=0\n",
    "    for i in args:\n",
    "        sum=sum+i\n",
    "    return sum"
   ]
  },
  {
   "cell_type": "code",
   "execution_count": 38,
   "id": "14c33adc-7cd4-4881-9e72-5fe2c5c373ab",
   "metadata": {},
   "outputs": [
    {
     "data": {
      "text/plain": [
       "15"
      ]
     },
     "execution_count": 38,
     "metadata": {},
     "output_type": "execute_result"
    }
   ],
   "source": [
    "add(1,2,3,4,5)"
   ]
  },
  {
   "cell_type": "code",
   "execution_count": 40,
   "id": "6686128c-a9b8-4fa8-90fe-f4b21325c7d0",
   "metadata": {},
   "outputs": [
    {
     "data": {
      "text/plain": [
       "64"
      ]
     },
     "execution_count": 40,
     "metadata": {},
     "output_type": "execute_result"
    }
   ],
   "source": [
    "add(2,3,4,5,6,2,3,4,5,5,6,7,3,4,5)"
   ]
  },
  {
   "cell_type": "code",
   "execution_count": 54,
   "id": "b63f17e7-4845-4aef-9ab1-8d0c6ef3b5a1",
   "metadata": {},
   "outputs": [],
   "source": [
    "def fun(*args,a,b,c):\n",
    "    print(b)\n",
    "    print(a)\n",
    "    print(c)\n",
    "    print(args)\n",
    "    print(*args)   ## it will give the error because the args take all the arguments ond no one to the value of the a,b,c"
   ]
  },
  {
   "cell_type": "code",
   "execution_count": 56,
   "id": "6f4beb96-e37e-4eca-9e46-bee6fbefadf5",
   "metadata": {},
   "outputs": [
    {
     "ename": "TypeError",
     "evalue": "fun() missing 3 required keyword-only arguments: 'a', 'b', and 'c'",
     "output_type": "error",
     "traceback": [
      "\u001b[1;31m---------------------------------------------------------------------------\u001b[0m",
      "\u001b[1;31mTypeError\u001b[0m                                 Traceback (most recent call last)",
      "Cell \u001b[1;32mIn[56], line 1\u001b[0m\n\u001b[1;32m----> 1\u001b[0m \u001b[43mfun\u001b[49m\u001b[43m(\u001b[49m\u001b[38;5;241;43m4\u001b[39;49m\u001b[43m,\u001b[49m\u001b[38;5;241;43m5\u001b[39;49m\u001b[43m,\u001b[49m\u001b[38;5;241;43m6\u001b[39;49m\u001b[43m,\u001b[49m\u001b[38;5;241;43m67\u001b[39;49m\u001b[43m,\u001b[49m\u001b[38;5;241;43m7\u001b[39;49m\u001b[43m,\u001b[49m\u001b[38;5;241;43m8\u001b[39;49m\u001b[43m,\u001b[49m\u001b[43m)\u001b[49m\n",
      "\u001b[1;31mTypeError\u001b[0m: fun() missing 3 required keyword-only arguments: 'a', 'b', and 'c'"
     ]
    }
   ],
   "source": [
    "fun(4,5,6,67,7,8,)"
   ]
  },
  {
   "cell_type": "code",
   "execution_count": 60,
   "id": "e8dc9d5e-775d-4d2f-9562-ff5c85003630",
   "metadata": {},
   "outputs": [
    {
     "name": "stdout",
     "output_type": "stream",
     "text": [
      "4\n",
      "3\n",
      "5\n",
      "(6, 6)\n",
      "6 6\n"
     ]
    }
   ],
   "source": [
    "def fun(a,b,c,*args):\n",
    "    print(b)\n",
    "    print(a)\n",
    "    print(c)\n",
    "    print(args)\n",
    "    print(*args)\n",
    "fun(3,4,5,6,6)"
   ]
  },
  {
   "cell_type": "markdown",
   "id": "72c42c98-239f-42f2-970a-366433f00600",
   "metadata": {},
   "source": [
    "#### **kwargs"
   ]
  },
  {
   "cell_type": "code",
   "execution_count": 81,
   "id": "d08ec2ac-b2de-4033-b4c4-ab4488d59834",
   "metadata": {},
   "outputs": [
    {
     "name": "stdout",
     "output_type": "stream",
     "text": [
      "<class 'dict'>\n",
      "{'name': 'subodh', 'age': 19, 'city': 'madhubani'}\n",
      "name  ->  subodh\n",
      "age  ->  19\n",
      "city  ->  madhubani\n"
     ]
    }
   ],
   "source": [
    "def fun(**kwargs):\n",
    "    print(type(kwargs))\n",
    "    print(kwargs)\n",
    "    for key,value in kwargs.items():\n",
    "        print(key,\" -> \",value)\n",
    "fun(name=\"subodh\", age=19, city=\"madhubani\")"
   ]
  },
  {
   "cell_type": "markdown",
   "id": "30beffe9-c3e2-4532-b7af-77b2b7c62913",
   "metadata": {},
   "source": [
    "### Return type"
   ]
  },
  {
   "cell_type": "code",
   "execution_count": 86,
   "id": "334af37b-f9a0-48f1-8eab-bf6583868f0f",
   "metadata": {},
   "outputs": [
    {
     "data": {
      "text/plain": [
       "7"
      ]
     },
     "execution_count": 86,
     "metadata": {},
     "output_type": "execute_result"
    }
   ],
   "source": [
    "def add_num(a: int, b:int)->int:\n",
    "    return a+b\n",
    "add(2,5)"
   ]
  },
  {
   "cell_type": "markdown",
   "id": "a5dc987c-c6f7-46d9-9349-b0fa24f466d0",
   "metadata": {},
   "source": [
    "#### Nested function"
   ]
  },
  {
   "cell_type": "code",
   "execution_count": 89,
   "id": "340cc518-d82b-4721-bdf5-980cf79aa643",
   "metadata": {},
   "outputs": [],
   "source": [
    "def outer():\n",
    "    print(\"this is the outer functiono\")\n",
    "\n",
    "    def inner():\n",
    "        print(\"this is the inner function\")\n",
    "    return inner()"
   ]
  },
  {
   "cell_type": "code",
   "execution_count": 91,
   "id": "d4c68a99-f4d9-4d4b-aac4-9365b711c1ab",
   "metadata": {},
   "outputs": [
    {
     "name": "stdout",
     "output_type": "stream",
     "text": [
      "this is the outer functiono\n",
      "this is the inner function\n"
     ]
    }
   ],
   "source": [
    "fn=outer()"
   ]
  },
  {
   "cell_type": "code",
   "execution_count": 99,
   "id": "66cdd986-7db3-4725-abc0-af082ea70183",
   "metadata": {},
   "outputs": [
    {
     "name": "stdout",
     "output_type": "stream",
     "text": [
      "this is the outer functiono\n",
      "this is the inner function\n"
     ]
    }
   ],
   "source": [
    "outer()"
   ]
  },
  {
   "cell_type": "markdown",
   "id": "68b4ce22-2380-477b-ae44-e2206b981a1d",
   "metadata": {},
   "source": [
    "### pass by value:"
   ]
  },
  {
   "cell_type": "code",
   "execution_count": 110,
   "id": "72738c76-dab3-48ca-b8e4-10f0e1f7997e",
   "metadata": {},
   "outputs": [
    {
     "name": "stdout",
     "output_type": "stream",
     "text": [
      "6\n",
      "origional num:-  5\n"
     ]
    }
   ],
   "source": [
    "num=5\n",
    "def fun(num):\n",
    "    num=num+1\n",
    "    print(num)\n",
    "fun(num)\n",
    "print('origional num:- ',num)\n",
    "### pass by value is uses of the copy of the data and used in the mutable dtypes"
   ]
  },
  {
   "cell_type": "markdown",
   "id": "88c921fc-798a-4387-964e-50a55d398fbd",
   "metadata": {},
   "source": [
    "#### pass by reference"
   ]
  },
  {
   "cell_type": "code",
   "execution_count": 119,
   "id": "c7382d1e-83a2-4ca7-ac27-bf53e75869f9",
   "metadata": {},
   "outputs": [
    {
     "name": "stdout",
     "output_type": "stream",
     "text": [
      "before calling function:  [1, 3, 4]\n",
      "[1, 3, 4, 7]\n"
     ]
    },
    {
     "data": {
      "text/plain": [
       "('After the calling function: ', [1, 3, 4, 7])"
      ]
     },
     "execution_count": 119,
     "metadata": {},
     "output_type": "execute_result"
    }
   ],
   "source": [
    "my_list=[1,3,4]\n",
    "def fun(l):\n",
    "    l.append(7)\n",
    "    print(l)\n",
    "print(\"before calling function: \",my_list)\n",
    "fun(my_list)\n",
    "(\"After the calling function: \",my_list)    ##it is used in theimmutable data types just like list ,string and chage the origional"
   ]
  },
  {
   "cell_type": "markdown",
   "id": "759d2281-90e3-4319-883c-88869ea4f6c9",
   "metadata": {},
   "source": [
    "### Lambda function"
   ]
  },
  {
   "cell_type": "code",
   "execution_count": 122,
   "id": "59b0c2f7-1609-4c64-bbaf-89f6d3b8e02b",
   "metadata": {},
   "outputs": [
    {
     "name": "stdout",
     "output_type": "stream",
     "text": [
      "20\n"
     ]
    }
   ],
   "source": [
    "fun=lambda x:x+10\n",
    "print(fun(10))"
   ]
  },
  {
   "cell_type": "code",
   "execution_count": 124,
   "id": "cc194120-277b-483d-99d6-a562588816fb",
   "metadata": {},
   "outputs": [
    {
     "name": "stdout",
     "output_type": "stream",
     "text": [
      "5\n"
     ]
    }
   ],
   "source": [
    "add=lambda a,b:a+b\n",
    "print(add(2,3))"
   ]
  },
  {
   "cell_type": "code",
   "execution_count": 128,
   "id": "3d16ae20-5fc6-48be-9a99-86dc0b2bf707",
   "metadata": {},
   "outputs": [
    {
     "name": "stdout",
     "output_type": "stream",
     "text": [
      "Hello Subodh \n"
     ]
    }
   ],
   "source": [
    "def my_fun():\n",
    "    #return a new function\n",
    "    return lambda message:print(message)\n",
    "my_fun()(\"Hello Subodh \")"
   ]
  },
  {
   "cell_type": "code",
   "execution_count": null,
   "id": "0f8b0f71-df40-4e6a-9837-c46113955605",
   "metadata": {},
   "outputs": [],
   "source": []
  }
 ],
 "metadata": {
  "kernelspec": {
   "display_name": "Python 3 (ipykernel)",
   "language": "python",
   "name": "python3"
  },
  "language_info": {
   "codemirror_mode": {
    "name": "ipython",
    "version": 3
   },
   "file_extension": ".py",
   "mimetype": "text/x-python",
   "name": "python",
   "nbconvert_exporter": "python",
   "pygments_lexer": "ipython3",
   "version": "3.12.3"
  }
 },
 "nbformat": 4,
 "nbformat_minor": 5
}
