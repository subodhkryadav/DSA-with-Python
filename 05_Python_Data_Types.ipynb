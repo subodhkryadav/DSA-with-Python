{
 "cells": [
  {
   "cell_type": "markdown",
   "id": "55577aa1-a302-40f0-9507-0e3bdfd5c9c5",
   "metadata": {},
   "source": [
    "# Data types"
   ]
  },
  {
   "cell_type": "markdown",
   "id": "f1add51d-e3f0-4cc7-b833-453b27b392e9",
   "metadata": {},
   "source": [
    "## There are many these types of the datatypes( mainly):-\n",
    "### 1.- Numerical\n",
    "####    - integer\n",
    "####    -float\n",
    "####    -complex number\n",
    "### 2. Boolean\n",
    "### 3. Dictonary\n",
    "### 4. Set\n",
    "### 5. Sequence\n",
    "####    -String\n",
    "####    -list\n",
    "####    -tuple"
   ]
  },
  {
   "cell_type": "markdown",
   "id": "076fe9dd-285f-49d8-9a7e-7d4ac906c944",
   "metadata": {},
   "source": [
    "### Numerical Datatypes"
   ]
  },
  {
   "cell_type": "code",
   "execution_count": 15,
   "id": "6c9f5276-f425-4090-890d-52c7c648e951",
   "metadata": {},
   "outputs": [],
   "source": [
    "x=5\n",
    "price=26.25\n",
    "num=3e6 # 3 to the power of 6\n",
    "\n",
    "# first is integer\n",
    "#second is float\n",
    "#third is Exponencial"
   ]
  },
  {
   "cell_type": "code",
   "execution_count": 19,
   "id": "ab79bdee-d6e8-404e-9049-d21141a8c165",
   "metadata": {},
   "outputs": [
    {
     "data": {
      "text/plain": [
       "int"
      ]
     },
     "execution_count": 19,
     "metadata": {},
     "output_type": "execute_result"
    }
   ],
   "source": [
    "type(x)"
   ]
  },
  {
   "cell_type": "code",
   "execution_count": 23,
   "id": "96dd025a-5a17-4060-90c2-8445a0e4fc31",
   "metadata": {},
   "outputs": [
    {
     "data": {
      "text/plain": [
       "float"
      ]
     },
     "execution_count": 23,
     "metadata": {},
     "output_type": "execute_result"
    }
   ],
   "source": [
    "type(price)"
   ]
  },
  {
   "cell_type": "code",
   "execution_count": 25,
   "id": "a3a75d68-6db3-498a-a145-4c0b82816f56",
   "metadata": {},
   "outputs": [
    {
     "data": {
      "text/plain": [
       "float"
      ]
     },
     "execution_count": 25,
     "metadata": {},
     "output_type": "execute_result"
    }
   ],
   "source": [
    "type(num)"
   ]
  },
  {
   "cell_type": "code",
   "execution_count": 27,
   "id": "ea5ec19a-2b83-4c1b-ab80-c16ec0f85538",
   "metadata": {},
   "outputs": [
    {
     "name": "stdout",
     "output_type": "stream",
     "text": [
      "3000000.0\n"
     ]
    }
   ],
   "source": [
    "print(num)"
   ]
  },
  {
   "cell_type": "code",
   "execution_count": 29,
   "id": "879bfeb0-8fa0-4e84-89b3-4008696b0c3d",
   "metadata": {},
   "outputs": [
    {
     "name": "stdout",
     "output_type": "stream",
     "text": [
      "<class 'complex'>\n"
     ]
    }
   ],
   "source": [
    "complx=3+4j\n",
    "print(type(complx))"
   ]
  },
  {
   "cell_type": "markdown",
   "id": "b83e5281-e0d8-4b9f-ac00-ea11dc224373",
   "metadata": {},
   "source": [
    "#### abs moethod"
   ]
  },
  {
   "cell_type": "code",
   "execution_count": 36,
   "id": "5197e44f-bdb9-4110-aecb-e6ebfe6c4572",
   "metadata": {},
   "outputs": [
    {
     "name": "stdout",
     "output_type": "stream",
     "text": [
      "5\n"
     ]
    }
   ],
   "source": [
    "print(abs(-5))  # it convert the negative to the positive"
   ]
  },
  {
   "cell_type": "markdown",
   "id": "0361b293-e764-4661-9f3e-cadf0c70e77f",
   "metadata": {},
   "source": [
    "#### power"
   ]
  },
  {
   "cell_type": "code",
   "execution_count": 39,
   "id": "411d32eb-c3fc-4c86-996a-0e9eb505c406",
   "metadata": {},
   "outputs": [
    {
     "name": "stdout",
     "output_type": "stream",
     "text": [
      "27\n"
     ]
    }
   ],
   "source": [
    "print(pow(3,3)) # it calculate the power  a to b if (a,b)"
   ]
  },
  {
   "cell_type": "markdown",
   "id": "418fe4af-804e-40a5-bbcb-c065e8fc61fc",
   "metadata": {},
   "source": [
    "#### round"
   ]
  },
  {
   "cell_type": "code",
   "execution_count": 44,
   "id": "0de3811a-c2f9-464c-a14f-0186d48718de",
   "metadata": {},
   "outputs": [
    {
     "name": "stdout",
     "output_type": "stream",
     "text": [
      "5\n",
      "4\n"
     ]
    }
   ],
   "source": [
    "print(round(4.74)) #after the .the value is above of the 5\n",
    "print(round(4,5)) # after the . the value is equal or less the 5 so give the value is:- "
   ]
  },
  {
   "cell_type": "markdown",
   "id": "04f469cf-373e-4f37-8b31-5bcb89acf84e",
   "metadata": {},
   "source": [
    "#### min max"
   ]
  },
  {
   "cell_type": "code",
   "execution_count": 47,
   "id": "f809c9a5-3d82-4e26-acf2-a5e910711923",
   "metadata": {},
   "outputs": [
    {
     "name": "stdout",
     "output_type": "stream",
     "text": [
      "1\n",
      "56\n"
     ]
    }
   ],
   "source": [
    "list_data=[3,4,5,1,5,9,34,56,30]\n",
    "print(min(list_data))\n",
    "print(max(list_data))"
   ]
  },
  {
   "cell_type": "markdown",
   "id": "21af43f9-f125-4b0e-bf55-45be7778454c",
   "metadata": {},
   "source": [
    "### Sequence"
   ]
  },
  {
   "cell_type": "markdown",
   "id": "a3c7fe60-a02b-4ffd-82c6-764d6491ff60",
   "metadata": {},
   "source": [
    "### list"
   ]
  },
  {
   "cell_type": "code",
   "execution_count": 51,
   "id": "274173ea-823a-427d-b24b-837828363b91",
   "metadata": {},
   "outputs": [
    {
     "name": "stdout",
     "output_type": "stream",
     "text": [
      "['subodh', 'suraj', 'vishal', 'madhav']\n"
     ]
    }
   ],
   "source": [
    "student=[\"subodh\",\"suraj\",\"vishal\",\"madhav\"]\n",
    "print(student)"
   ]
  },
  {
   "cell_type": "code",
   "execution_count": 53,
   "id": "a1680cb9-716d-4ee7-a779-32b100f77de7",
   "metadata": {},
   "outputs": [
    {
     "name": "stdout",
     "output_type": "stream",
     "text": [
      "<class 'list'>\n"
     ]
    }
   ],
   "source": [
    "print(type(student))"
   ]
  },
  {
   "cell_type": "markdown",
   "id": "04ee5a36-e5a1-40cf-8998-169093876eb0",
   "metadata": {},
   "source": [
    "##### constructor"
   ]
  },
  {
   "cell_type": "code",
   "execution_count": 56,
   "id": "9d4ab336-ab7f-46fe-a3a9-b66f697ea4ee",
   "metadata": {},
   "outputs": [
    {
     "name": "stdout",
     "output_type": "stream",
     "text": [
      "['subodh', 'suraj', 'vishal', 'madhav']\n"
     ]
    }
   ],
   "source": [
    "list1=list(student)\n",
    "print(list1)"
   ]
  },
  {
   "cell_type": "code",
   "execution_count": 60,
   "id": "abaa6f8c-fdea-4bb4-9b95-90889c81754e",
   "metadata": {},
   "outputs": [],
   "source": [
    "list2=list((\"suobodh\",1,2,3,'A'))  #this is tuple that convert to the list"
   ]
  },
  {
   "cell_type": "code",
   "execution_count": 62,
   "id": "ceecbb49-e6ed-4a0c-978d-e248310a6205",
   "metadata": {},
   "outputs": [
    {
     "data": {
      "text/plain": [
       "['suobodh', 1, 2, 3, 'A']"
      ]
     },
     "execution_count": 62,
     "metadata": {},
     "output_type": "execute_result"
    }
   ],
   "source": [
    "list2"
   ]
  },
  {
   "cell_type": "code",
   "execution_count": 64,
   "id": "6e259d5a-ce4c-4e9b-81e3-6420573f443f",
   "metadata": {},
   "outputs": [
    {
     "name": "stdout",
     "output_type": "stream",
     "text": [
      "7\n"
     ]
    }
   ],
   "source": [
    "#### Accessing the element:- \n",
    "l1=[3,4,5,6,7,8]\n",
    "print(l1[4])   #4th index find the element"
   ]
  },
  {
   "cell_type": "code",
   "execution_count": 68,
   "id": "121b2ea9-734e-4f41-871d-30039cf17134",
   "metadata": {},
   "outputs": [
    {
     "data": {
      "text/plain": [
       "6"
      ]
     },
     "execution_count": 68,
     "metadata": {},
     "output_type": "execute_result"
    }
   ],
   "source": [
    "l1[-3]   #positive[0,lengthe-1]\n",
    "         #negative[-lengthe,-1]"
   ]
  },
  {
   "cell_type": "markdown",
   "id": "5d65bee7-44b7-4050-81f3-7c488fc686c8",
   "metadata": {},
   "source": [
    "#### inserting element"
   ]
  },
  {
   "cell_type": "code",
   "execution_count": 71,
   "id": "2527bd19-b6f0-4436-832b-77b5b13a7145",
   "metadata": {},
   "outputs": [
    {
     "name": "stdout",
     "output_type": "stream",
     "text": [
      "after append:-  [3, 4, 52, 15, 56, 20]\n",
      "after the inserting:-  [3, 11, 4, 52, 15, 56, 20]\n",
      "after the extending:-  [3, 11, 4, 52, 15, 56, 20, 'subodh', 'kumar']\n"
     ]
    }
   ],
   "source": [
    "arr=[3,4,52,15,56]\n",
    "arr.append(20)\n",
    "print(\"after append:- \",arr)\n",
    "arr.insert(1,11)\n",
    "print(\"after the inserting:- \",arr)\n",
    "\n",
    "l2=[\"subodh\",\"kumar\"]\n",
    "arr.extend(l2)\n",
    "print(\"after the extending:- \",arr)"
   ]
  },
  {
   "cell_type": "markdown",
   "id": "86b3e437-386e-470e-9852-bf79aed852bb",
   "metadata": {},
   "source": [
    "#### remove element from list:- "
   ]
  },
  {
   "cell_type": "code",
   "execution_count": 76,
   "id": "346e797b-4f97-4891-930c-86b7adec05a6",
   "metadata": {},
   "outputs": [
    {
     "data": {
      "text/plain": [
       "[3, 11, 4, 52, 15, 56, 20, 'subodh', 'kumar']"
      ]
     },
     "execution_count": 76,
     "metadata": {},
     "output_type": "execute_result"
    }
   ],
   "source": [
    "arr"
   ]
  },
  {
   "cell_type": "code",
   "execution_count": 78,
   "id": "665d61fa-d744-401e-9e69-ec9ee4612cc8",
   "metadata": {},
   "outputs": [
    {
     "name": "stdout",
     "output_type": "stream",
     "text": [
      "after the removing:-  [3, 11, 4, 15, 56, 20, 'subodh', 'kumar']\n",
      "after the poping the list:  [3, 11, 4, 15, 56, 20, 'subodh']\n",
      "after the indexed_pop the list:  [3, 4, 15, 56, 20, 'subodh']\n"
     ]
    }
   ],
   "source": [
    "arr.remove(52)  # it remove the first occurance of the element\n",
    "print(\"after the removing:- \",arr)\n",
    "arr.pop()    # remove the last element of the list\n",
    "print(\"after the poping the list: \",arr)\n",
    "arr.pop(1)  # removing the index of an element\n",
    "print(\"after the indexed_pop the list: \",arr)"
   ]
  },
  {
   "cell_type": "markdown",
   "id": "6437c238-d838-41d8-be13-eb6911222506",
   "metadata": {},
   "source": [
    "#### replace the value"
   ]
  },
  {
   "cell_type": "code",
   "execution_count": 83,
   "id": "0b7c0958-d29f-45ad-b8db-8f7a9a5e1d1d",
   "metadata": {},
   "outputs": [
    {
     "name": "stdout",
     "output_type": "stream",
     "text": [
      "after the replacing the element:  ['a', 'b', 'c', 'f', 'e']\n",
      "after the replacing the element_through_slicing:  ['a', 'm', 'n', 'o', 'e']\n"
     ]
    }
   ],
   "source": [
    "students=['a','b','c','d','e']\n",
    "students[3]='f'   # replace the 3rd index of the students list\n",
    "print(\"after the replacing the element: \",students)\n",
    "students[1:4]='m','n','o'\n",
    "print(\"after the replacing the element_through_slicing: \",students)"
   ]
  },
  {
   "cell_type": "markdown",
   "id": "a6828db0-bfff-48b5-a96d-aba99b9356b8",
   "metadata": {},
   "source": [
    "#### reverse"
   ]
  },
  {
   "cell_type": "code",
   "execution_count": 86,
   "id": "06361868-5721-402b-a0e9-1e4847e76bcf",
   "metadata": {},
   "outputs": [
    {
     "name": "stdout",
     "output_type": "stream",
     "text": [
      "[7, 6, 5, 4, 3]\n"
     ]
    }
   ],
   "source": [
    "l1=[3,4,5,6,7]\n",
    "l1.reverse()\n",
    "print(l1)"
   ]
  },
  {
   "cell_type": "code",
   "execution_count": 90,
   "id": "3721444e-5f35-4efa-bdea-d50e56e1724f",
   "metadata": {},
   "outputs": [
    {
     "name": "stdout",
     "output_type": "stream",
     "text": [
      "[7, 6, 5, 4, 3]\n",
      "1769726059648 1769726239488\n"
     ]
    }
   ],
   "source": [
    "list_copy=l1.copy()\n",
    "print(list_copy)\n",
    "print(id(l1),id(list_copy))  # see the address of the actual list and the copy list"
   ]
  },
  {
   "cell_type": "markdown",
   "id": "8c12d1d3-2718-453b-a0c3-abb511e6ed6a",
   "metadata": {},
   "source": [
    "#### sort"
   ]
  },
  {
   "cell_type": "code",
   "execution_count": 93,
   "id": "f660e2ff-df5f-46b9-8650-f3f813d1a242",
   "metadata": {},
   "outputs": [
    {
     "name": "stdout",
     "output_type": "stream",
     "text": [
      "[2, 3, 23, 32, 34, 43, 44, 45, 45]\n"
     ]
    }
   ],
   "source": [
    "lst=[34,3,2,45,43,32,23,45,44]\n",
    "lst.sort()\n",
    "print(lst)"
   ]
  },
  {
   "cell_type": "markdown",
   "id": "3e5e22e0-c78a-44b0-b3ef-7576a759181b",
   "metadata": {},
   "source": [
    "## 2 String data types"
   ]
  },
  {
   "cell_type": "code",
   "execution_count": 2,
   "id": "892e2726-06bd-4fd7-adfa-9c239f194b78",
   "metadata": {},
   "outputs": [],
   "source": [
    "# gropu of elements or characters is called String data types"
   ]
  },
  {
   "cell_type": "code",
   "execution_count": 4,
   "id": "7663ecfd-f384-491f-92ba-240a680e29cb",
   "metadata": {},
   "outputs": [],
   "source": [
    "name=\"subodh\"\n",
    "city=\"madhubani\"\n",
    "country=\"India\""
   ]
  },
  {
   "cell_type": "code",
   "execution_count": 6,
   "id": "f4f0f566-852e-41e5-b99c-5fa0f9a8c6f2",
   "metadata": {},
   "outputs": [
    {
     "name": "stdout",
     "output_type": "stream",
     "text": [
      "subodh\n",
      "madhubani\n",
      "India\n"
     ]
    }
   ],
   "source": [
    "print(name)\n",
    "print(city)\n",
    "print(country)"
   ]
  },
  {
   "cell_type": "code",
   "execution_count": 8,
   "id": "6a7f3ec7-1de9-4792-bbbe-32aea3162a78",
   "metadata": {},
   "outputs": [
    {
     "name": "stdout",
     "output_type": "stream",
     "text": [
      "o\n"
     ]
    }
   ],
   "source": [
    "print(name[3])"
   ]
  },
  {
   "cell_type": "code",
   "execution_count": 10,
   "id": "b943a6e8-87a0-48ce-b346-f80e1d4de0fb",
   "metadata": {},
   "outputs": [
    {
     "name": "stdout",
     "output_type": "stream",
     "text": [
      "h\n"
     ]
    }
   ],
   "source": [
    "print(name[-1])"
   ]
  },
  {
   "cell_type": "code",
   "execution_count": 16,
   "id": "573ded0a-2cf7-4256-ac67-2ce79d043066",
   "metadata": {},
   "outputs": [
    {
     "name": "stdout",
     "output_type": "stream",
     "text": [
      "sub\n"
     ]
    }
   ],
   "source": [
    "print(name[0:3])"
   ]
  },
  {
   "cell_type": "code",
   "execution_count": 20,
   "id": "90ece856-b3f7-4b18-8f76-8730c3f1ae28",
   "metadata": {},
   "outputs": [],
   "source": [
    "name=\"subodh\"\n",
    "name[0]='b'  ## string is immutable so no change so it will give the error"
   ]
  },
  {
   "cell_type": "markdown",
   "id": "a936530c-31a1-4a4d-9a10-31e684b79862",
   "metadata": {},
   "source": [
    "#### String concadination"
   ]
  },
  {
   "cell_type": "code",
   "execution_count": 27,
   "id": "2d9a5c68-dd22-4d11-b834-4d3e055f8530",
   "metadata": {},
   "outputs": [
    {
     "name": "stdout",
     "output_type": "stream",
     "text": [
      "subodh kumar yadav\n"
     ]
    }
   ],
   "source": [
    "first_name=\"subodh\"\n",
    "middle_name=\"kumar\"\n",
    "last_name=\"yadav\"\n",
    "full_name=first_name+\" \"+middle_name+\" \"+ last_name\n",
    "print(full_name)"
   ]
  },
  {
   "cell_type": "code",
   "execution_count": 29,
   "id": "c273cb54-ecf3-49bf-adda-4e4c18dc374d",
   "metadata": {},
   "outputs": [
    {
     "data": {
      "text/plain": [
       "18"
      ]
     },
     "execution_count": 29,
     "metadata": {},
     "output_type": "execute_result"
    }
   ],
   "source": [
    "len(full_name)"
   ]
  },
  {
   "cell_type": "markdown",
   "id": "50b0c5f2-9596-415c-b1ed-87ecd2134828",
   "metadata": {},
   "source": [
    "#### string slicing"
   ]
  },
  {
   "cell_type": "code",
   "execution_count": 32,
   "id": "49c04fb4-14a2-483e-8f66-eb89ca2481ac",
   "metadata": {},
   "outputs": [
    {
     "name": "stdout",
     "output_type": "stream",
     "text": [
      "subodh \n"
     ]
    }
   ],
   "source": [
    "print(full_name[0:7])"
   ]
  },
  {
   "cell_type": "code",
   "execution_count": 34,
   "id": "893fd6e1-b294-4aa7-9a94-8fee524e4064",
   "metadata": {},
   "outputs": [
    {
     "name": "stdout",
     "output_type": "stream",
     "text": [
      "subodh kumar yadav\n"
     ]
    }
   ],
   "source": [
    "print(full_name[0:])"
   ]
  },
  {
   "cell_type": "code",
   "execution_count": 36,
   "id": "8a773698-14fd-466f-87cc-d531086f501f",
   "metadata": {},
   "outputs": [
    {
     "name": "stdout",
     "output_type": "stream",
     "text": [
      "subodh \n"
     ]
    }
   ],
   "source": [
    "print(full_name[:7])"
   ]
  },
  {
   "cell_type": "code",
   "execution_count": 38,
   "id": "b598b97b-1109-4136-b379-17067be766cf",
   "metadata": {},
   "outputs": [
    {
     "name": "stdout",
     "output_type": "stream",
     "text": [
      "subodh kumar yadav\n"
     ]
    }
   ],
   "source": [
    "print(full_name[:])"
   ]
  },
  {
   "cell_type": "markdown",
   "id": "c4aa858b-be00-46b9-aedb-24d85f422b67",
   "metadata": {},
   "source": [
    "#### string method"
   ]
  },
  {
   "cell_type": "code",
   "execution_count": 41,
   "id": "803f1587-7e18-41bc-b18c-5ec60c4a7cb6",
   "metadata": {},
   "outputs": [],
   "source": [
    "str=\"suBodh\""
   ]
  },
  {
   "cell_type": "code",
   "execution_count": 43,
   "id": "bd237541-52f6-4ab3-ba2e-02bad5052583",
   "metadata": {},
   "outputs": [
    {
     "data": {
      "text/plain": [
       "'SUBODH'"
      ]
     },
     "execution_count": 43,
     "metadata": {},
     "output_type": "execute_result"
    }
   ],
   "source": [
    "str.upper()"
   ]
  },
  {
   "cell_type": "code",
   "execution_count": 45,
   "id": "c18a54fd-1e55-4958-a8b6-917a510b4e33",
   "metadata": {},
   "outputs": [
    {
     "data": {
      "text/plain": [
       "'subodh'"
      ]
     },
     "execution_count": 45,
     "metadata": {},
     "output_type": "execute_result"
    }
   ],
   "source": [
    "str.lower()"
   ]
  },
  {
   "cell_type": "code",
   "execution_count": 51,
   "id": "3f77659e-d8ec-40bf-a2db-2c87256813a8",
   "metadata": {},
   "outputs": [
    {
     "data": {
      "text/plain": [
       "'Subodh'"
      ]
     },
     "execution_count": 51,
     "metadata": {},
     "output_type": "execute_result"
    }
   ],
   "source": [
    "str.capitalize()   # first latter will be capital"
   ]
  },
  {
   "cell_type": "code",
   "execution_count": 53,
   "id": "866acf74-41d9-4f84-923d-b445be17e136",
   "metadata": {},
   "outputs": [
    {
     "data": {
      "text/plain": [
       "'suBodh'"
      ]
     },
     "execution_count": 53,
     "metadata": {},
     "output_type": "execute_result"
    }
   ],
   "source": [
    "str.strip()   ## remove the extra space"
   ]
  },
  {
   "cell_type": "code",
   "execution_count": 55,
   "id": "a46e5a4a-95cf-41af-98ff-e22cc77ac57d",
   "metadata": {},
   "outputs": [
    {
     "data": {
      "text/plain": [
       "'kuBodh'"
      ]
     },
     "execution_count": 55,
     "metadata": {},
     "output_type": "execute_result"
    }
   ],
   "source": [
    "str.replace(\"s\",\"k\")"
   ]
  },
  {
   "cell_type": "markdown",
   "id": "8d33de1a-0dc6-4034-adf0-28ff6a396070",
   "metadata": {},
   "source": [
    "## 3. Tuple data types"
   ]
  },
  {
   "cell_type": "markdown",
   "id": "739559a9-0b6e-42ff-bd46-2ceed5db6aa1",
   "metadata": {},
   "source": [
    "##### 1.ordered\n",
    "##### 2. sequence\n",
    "##### 3. different types of data\n",
    "##### 4. immutable"
   ]
  },
  {
   "cell_type": "code",
   "execution_count": 61,
   "id": "0a772012-da0c-4e71-81a1-117519973592",
   "metadata": {},
   "outputs": [
    {
     "name": "stdout",
     "output_type": "stream",
     "text": [
      "('apple', 'mango', 'banana', 'mango', 'apple', 'stravery')\n"
     ]
    }
   ],
   "source": [
    "fruits=(\"apple\",\"mango\",\"banana\",\"mango\",\"apple\",\"stravery\")\n",
    "print(fruits)"
   ]
  },
  {
   "cell_type": "code",
   "execution_count": 63,
   "id": "4440d1d8-7f33-4443-bc4b-96238380142c",
   "metadata": {},
   "outputs": [
    {
     "data": {
      "text/plain": [
       "2"
      ]
     },
     "execution_count": 63,
     "metadata": {},
     "output_type": "execute_result"
    }
   ],
   "source": [
    "fruits.count(\"mango\")"
   ]
  },
  {
   "cell_type": "code",
   "execution_count": 67,
   "id": "844a7bb8-cc8c-451e-a2a6-f691eb313dd0",
   "metadata": {},
   "outputs": [
    {
     "data": {
      "text/plain": [
       "2"
      ]
     },
     "execution_count": 67,
     "metadata": {},
     "output_type": "execute_result"
    }
   ],
   "source": [
    "fruits.index(\"banana\")"
   ]
  },
  {
   "cell_type": "code",
   "execution_count": 69,
   "id": "33d82742-887a-415b-835f-553d86305e3d",
   "metadata": {},
   "outputs": [
    {
     "data": {
      "text/plain": [
       "'apple'"
      ]
     },
     "execution_count": 69,
     "metadata": {},
     "output_type": "execute_result"
    }
   ],
   "source": [
    "fruits[0]"
   ]
  },
  {
   "cell_type": "markdown",
   "id": "6630d2ec-6ab2-45f9-b790-e924bbf9cb29",
   "metadata": {},
   "source": [
    "## 4. Boolean data types"
   ]
  },
  {
   "cell_type": "code",
   "execution_count": 73,
   "id": "2d35afe2-8125-4276-823a-a2f4cdc4eb46",
   "metadata": {},
   "outputs": [],
   "source": [
    "# Either True or Flase"
   ]
  },
  {
   "cell_type": "code",
   "execution_count": 75,
   "id": "ccd73a2c-f3af-487d-9a4b-d25d27838ff9",
   "metadata": {},
   "outputs": [
    {
     "name": "stdout",
     "output_type": "stream",
     "text": [
      "True\n",
      "False\n"
     ]
    }
   ],
   "source": [
    "print(True)\n",
    "print(False)"
   ]
  },
  {
   "cell_type": "markdown",
   "id": "25a920fb-cbc8-457c-81f1-6e083387270b",
   "metadata": {},
   "source": [
    "## 5. Dictornary"
   ]
  },
  {
   "cell_type": "code",
   "execution_count": 78,
   "id": "359b1236-1be8-49fc-8541-af20dd417be9",
   "metadata": {},
   "outputs": [],
   "source": [
    "# it store the value in the form of the key and value pair"
   ]
  },
  {
   "cell_type": "code",
   "execution_count": 80,
   "id": "081e5b86-46f6-4f5c-a27d-7d4523f9f0b2",
   "metadata": {},
   "outputs": [
    {
     "name": "stdout",
     "output_type": "stream",
     "text": [
      "{'name': 'subodh', 'age': 18, 'class': 'A'}\n"
     ]
    }
   ],
   "source": [
    "student={\"name\":\"subodh\",\"age\":18,\"class\":'A'}\n",
    "print(student)"
   ]
  },
  {
   "cell_type": "code",
   "execution_count": 84,
   "id": "022ab416-e7ac-451c-9f96-77b4c3aea404",
   "metadata": {},
   "outputs": [
    {
     "data": {
      "text/plain": [
       "dict"
      ]
     },
     "execution_count": 84,
     "metadata": {},
     "output_type": "execute_result"
    }
   ],
   "source": [
    "type(student)"
   ]
  },
  {
   "cell_type": "code",
   "execution_count": 86,
   "id": "bd40d10c-ce04-41c7-8f5e-530b132f3625",
   "metadata": {},
   "outputs": [
    {
     "data": {
      "text/plain": [
       "'subodh'"
      ]
     },
     "execution_count": 86,
     "metadata": {},
     "output_type": "execute_result"
    }
   ],
   "source": [
    "student['name']"
   ]
  },
  {
   "cell_type": "code",
   "execution_count": 88,
   "id": "8c2e698c-7ad5-4d3a-a829-1f2f3b2899aa",
   "metadata": {},
   "outputs": [
    {
     "data": {
      "text/plain": [
       "dict_keys(['name', 'age', 'class'])"
      ]
     },
     "execution_count": 88,
     "metadata": {},
     "output_type": "execute_result"
    }
   ],
   "source": [
    "student.keys()"
   ]
  },
  {
   "cell_type": "code",
   "execution_count": 90,
   "id": "09d3ff2e-ac63-42c6-8b37-7528aa455417",
   "metadata": {},
   "outputs": [
    {
     "data": {
      "text/plain": [
       "dict_values(['subodh', 18, 'A'])"
      ]
     },
     "execution_count": 90,
     "metadata": {},
     "output_type": "execute_result"
    }
   ],
   "source": [
    "student.values()"
   ]
  },
  {
   "cell_type": "code",
   "execution_count": 92,
   "id": "3400de6d-3398-4f12-866c-44fead86a644",
   "metadata": {},
   "outputs": [
    {
     "data": {
      "text/plain": [
       "dict_items([('name', 'subodh'), ('age', 18), ('class', 'A')])"
      ]
     },
     "execution_count": 92,
     "metadata": {},
     "output_type": "execute_result"
    }
   ],
   "source": [
    "student.items()"
   ]
  },
  {
   "cell_type": "markdown",
   "id": "8a2d45b5-bb53-4dac-8fb2-0c84c6653d21",
   "metadata": {},
   "source": [
    "## 6. Set"
   ]
  },
  {
   "cell_type": "code",
   "execution_count": 96,
   "id": "5459c459-bc48-4431-934c-9af7427ed9eb",
   "metadata": {},
   "outputs": [],
   "source": [
    "# set are defined as the no duplicate,mutalbe,unordered"
   ]
  },
  {
   "cell_type": "code",
   "execution_count": 98,
   "id": "32be2e59-cf83-4ce8-b8b3-c43cb5f1c767",
   "metadata": {},
   "outputs": [],
   "source": [
    "set1={1,2,3,4,5,4,3}"
   ]
  },
  {
   "cell_type": "code",
   "execution_count": 100,
   "id": "6fe6d745-b545-43f2-a499-893014844c51",
   "metadata": {},
   "outputs": [
    {
     "name": "stdout",
     "output_type": "stream",
     "text": [
      "{1, 2, 3, 4, 5}\n"
     ]
    }
   ],
   "source": [
    "print(set1)"
   ]
  },
  {
   "cell_type": "code",
   "execution_count": 102,
   "id": "8a5f0b83-2af0-41d6-ab38-16bf5b37109e",
   "metadata": {},
   "outputs": [],
   "source": [
    "s1=set1"
   ]
  },
  {
   "cell_type": "code",
   "execution_count": 108,
   "id": "9e5c4a64-6ac0-48e6-938e-1ecf2222ff58",
   "metadata": {},
   "outputs": [],
   "source": [
    "s1.add(41)"
   ]
  },
  {
   "cell_type": "code",
   "execution_count": 110,
   "id": "90579398-dc9b-4b40-92d7-04171d725ea3",
   "metadata": {},
   "outputs": [
    {
     "name": "stdout",
     "output_type": "stream",
     "text": [
      "{1, 2, 3, 4, 5, 41}\n"
     ]
    }
   ],
   "source": [
    "print(s1)"
   ]
  },
  {
   "cell_type": "code",
   "execution_count": 112,
   "id": "bc04a5af-332a-4f98-bd06-0e6fe539cff3",
   "metadata": {},
   "outputs": [],
   "source": [
    "s1.discard(3)"
   ]
  },
  {
   "cell_type": "code",
   "execution_count": 114,
   "id": "29223856-9eef-4e23-b027-297e509e7692",
   "metadata": {},
   "outputs": [
    {
     "name": "stdout",
     "output_type": "stream",
     "text": [
      "{1, 2, 4, 5, 41}\n"
     ]
    }
   ],
   "source": [
    "print(s1)"
   ]
  },
  {
   "cell_type": "markdown",
   "id": "943b3a68-c591-4bf9-84b9-3d6833780758",
   "metadata": {},
   "source": [
    "### frozenset"
   ]
  },
  {
   "cell_type": "code",
   "execution_count": 117,
   "id": "c03c90b4-6db9-4cfe-90ab-0cb6adcfb6fa",
   "metadata": {},
   "outputs": [],
   "source": [
    "# forzenset have immutable in nature"
   ]
  },
  {
   "cell_type": "code",
   "execution_count": 119,
   "id": "73ff44ed-cdaf-4a2a-8be3-0efe7d8f2378",
   "metadata": {},
   "outputs": [],
   "source": [
    "fs=frozenset({1,2,4,5,2,4})"
   ]
  },
  {
   "cell_type": "code",
   "execution_count": 121,
   "id": "1c07a00a-72d6-46c9-815b-da1e5d0a47b8",
   "metadata": {},
   "outputs": [
    {
     "name": "stdout",
     "output_type": "stream",
     "text": [
      "frozenset({1, 2, 4, 5})\n"
     ]
    }
   ],
   "source": [
    "print(fs)"
   ]
  },
  {
   "cell_type": "code",
   "execution_count": null,
   "id": "3e81c8b6-84e7-403e-9005-bbad87ec865c",
   "metadata": {},
   "outputs": [],
   "source": []
  }
 ],
 "metadata": {
  "kernelspec": {
   "display_name": "Python 3 (ipykernel)",
   "language": "python",
   "name": "python3"
  },
  "language_info": {
   "codemirror_mode": {
    "name": "ipython",
    "version": 3
   },
   "file_extension": ".py",
   "mimetype": "text/x-python",
   "name": "python",
   "nbconvert_exporter": "python",
   "pygments_lexer": "ipython3",
   "version": "3.12.3"
  }
 },
 "nbformat": 4,
 "nbformat_minor": 5
}
